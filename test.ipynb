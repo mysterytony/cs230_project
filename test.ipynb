{
 "cells": [
  {
   "cell_type": "code",
   "execution_count": null,
   "metadata": {},
   "outputs": [
    {
     "name": "stdout",
     "output_type": "stream",
     "text": [
      "environ.get(\"PYTORCH_ENABLE_MPS_FALLBACK\")='1'\n",
      "DEVICE=device(type='mps')\n",
      "PRETRAINED_MODEL='gpt2-small'\n",
      "Loaded pretrained model gpt2-small into HookedTransformer\n"
     ]
    },
    {
     "name": "stderr",
     "output_type": "stream",
     "text": [
      "100%|██████████| 10/10 [00:00<00:00, 21.37it/s]"
     ]
    },
    {
     "name": "stdout",
     "output_type": "stream",
     "text": [
      "test model generate: The Space Needle is in the city of Yaveath for now, but now its time\n",
      "print model structure HookedTransformer(\n",
      "  (embed): Embed()\n",
      "  (hook_embed): HookPoint()\n",
      "  (pos_embed): PosEmbed()\n",
      "  (hook_pos_embed): HookPoint()\n",
      "  (blocks): ModuleList(\n",
      "    (0-11): 12 x TransformerBlock(\n",
      "      (ln1): LayerNormPre(\n",
      "        (hook_scale): HookPoint()\n",
      "        (hook_normalized): HookPoint()\n",
      "      )\n",
      "      (ln2): LayerNormPre(\n",
      "        (hook_scale): HookPoint()\n",
      "        (hook_normalized): HookPoint()\n",
      "      )\n",
      "      (attn): Attention(\n",
      "        (hook_k): HookPoint()\n",
      "        (hook_q): HookPoint()\n",
      "        (hook_v): HookPoint()\n",
      "        (hook_z): HookPoint()\n",
      "        (hook_attn_scores): HookPoint()\n",
      "        (hook_pattern): HookPoint()\n",
      "        (hook_result): HookPoint()\n",
      "      )\n",
      "      (mlp): MLP(\n",
      "        (hook_pre): HookPoint()\n",
      "        (hook_post): HookPoint()\n",
      "      )\n",
      "      (hook_attn_in): HookPoint()\n",
      "      (hook_q_input): HookPoint()\n",
      "      (hook_k_input): HookPoint()\n",
      "      (hook_v_input): HookPoint()\n",
      "      (hook_mlp_in): HookPoint()\n",
      "      (hook_attn_out): HookPoint()\n",
      "      (hook_mlp_out): HookPoint()\n",
      "      (hook_resid_pre): HookPoint()\n",
      "      (hook_resid_mid): HookPoint()\n",
      "      (hook_resid_post): HookPoint()\n",
      "    )\n",
      "  )\n",
      "  (ln_final): LayerNormPre(\n",
      "    (hook_scale): HookPoint()\n",
      "    (hook_normalized): HookPoint()\n",
      "  )\n",
      "  (unembed): Unembed()\n",
      ")\n"
     ]
    },
    {
     "name": "stderr",
     "output_type": "stream",
     "text": [
      "\n"
     ]
    }
   ],
   "source": [
    "from circuitsvis.attention import attention_heads\n",
    "from fancy_einsum import einsum\n",
    "from functools import partial\n",
    "from IPython.display import HTML, IFrame\n",
    "from jaxtyping import Float\n",
    "from os import environ\n",
    "from transformer_lens import ActivationCache, HookedTransformer\n",
    "from typing import List, Optional, Union\n",
    "import circuitsvis as cv\n",
    "import dotenv\n",
    "import einops\n",
    "import numpy as np\n",
    "import plotly.express as px\n",
    "import plotly.io as pio\n",
    "import plotly.graph_objs as go\n",
    "import torch\n",
    "import tqdm.auto as tqdm\n",
    "import transformer_lens\n",
    "import transformer_lens.utils as utils\n",
    "# from utils import imshow, line, scatter\n",
    "\n",
    "dotenv.load_dotenv('.env', override=True)\n",
    "print(f'{environ.get(\"PYTORCH_ENABLE_MPS_FALLBACK\")=}')\n",
    "\n",
    "torch.set_grad_enabled(False)\n",
    "\n",
    "DEVICE = utils.get_device()\n",
    "print(f'{DEVICE=}')\n",
    "\n",
    "PRETRAINED_MODEL = 'gpt2-small'  # gpt2-small or gpt2-medium\n",
    "print(f'{PRETRAINED_MODEL=}')\n",
    "\n",
    "model = transformer_lens.HookedTransformer.from_pretrained(\n",
    "    PRETRAINED_MODEL, center_unembed=True,\n",
    "    center_writing_weights=True,\n",
    "    fold_ln=True,\n",
    "    refactor_factored_attn_matrices=True, device=DEVICE)\n",
    "\n",
    "print(\"test model generate:\", model.generate(\n",
    "    \"The Space Needle is in the city of\"))\n",
    "\n",
    "print(\"print model structure\", model)\n",
    "\n",
    "\n",
    "def imshow(tensor, **kwargs):\n",
    "    px.imshow(\n",
    "        utils.to_numpy(tensor),\n",
    "        color_continuous_midpoint=0.0,\n",
    "        color_continuous_scale=\"RdBu\",\n",
    "        **kwargs,\n",
    "    ).show()\n",
    "\n",
    "\n",
    "def line(tensor, **kwargs):\n",
    "    px.line(\n",
    "        y=utils.to_numpy(tensor),\n",
    "        **kwargs,\n",
    "    ).show()\n",
    "\n",
    "\n",
    "def scatter(x, y, xaxis=\"\", yaxis=\"\", caxis=\"\", **kwargs):\n",
    "    x = utils.to_numpy(x)\n",
    "    y = utils.to_numpy(y)\n",
    "    px.scatter(\n",
    "        y=y,\n",
    "        x=x,\n",
    "        labels={\"x\": xaxis, \"y\": yaxis, \"color\": caxis},\n",
    "        **kwargs,\n",
    "    ).show()"
   ]
  },
  {
   "cell_type": "code",
   "execution_count": null,
   "metadata": {},
   "outputs": [],
   "source": [
    "# what are all number tokens?\n",
    "\n"
   ]
  },
  {
   "cell_type": "code",
   "execution_count": null,
   "metadata": {},
   "outputs": [],
   "source": [
    "prompts = [\n",
    "    \"123+456=\",\n",
    "    \" 123+456=\",\n",
    "    \" 123 +456=\",\n",
    "    \" 123 + 456=\",\n",
    "    \" 123 + 456 =\",\n",
    "    \" 123 + 456 = \",\n",
    "    \"123 +456=\",\n",
    "    \"123 + 456=\",\n",
    "    \"123 + 456 =\",\n",
    "    \"123+ 456=\",\n",
    "    \"123+ 456 =\",\n",
    "    \"123+ 456 = \",\n",
    "    \"123+456 =\",\n",
    "    \"123+456 = \",\n",
    "    \"123+456= \",\n",
    "]\n",
    "answers = [  # each answer contains 2 tokens\n",
    "    \" 579\",\n",
    "]\n",
    "\n",
    "\n",
    "# utils.test_prompt(prompt='123+123=', answer='579', model=model,\n",
    "#                   prepend_bos=True, prepend_space_to_answer=False, print_details=False)\n",
    "\n",
    "for p in prompts:\n",
    "    for a in answers:\n",
    "        print(f\"prompt=|{p}|, answer=|{a}|\")\n",
    "        utils.test_prompt(prompt=p, answer=a, model=model, top_k=1)"
   ]
  },
  {
   "cell_type": "markdown",
   "metadata": {},
   "source": [
    "```\n",
    "prompt=|123 + 456 =|, answer=| 579|\n",
    "Tokenized prompt: ['<|endoftext|>', '123', ' +', ' 4', '56', ' =']\n",
    "Tokenized answer: [' 5', '79']\n",
    "Performance on answer token:\n",
    "Rank: 6        Logit: 11.39 Prob:  2.09% Token: | 5|\n",
    "Top 0th token. Logit: 11.95 Prob:  3.67% Token: | 1|\n",
    "Performance on answer token:\n",
    "Rank: 27       Logit:  9.31 Prob:  0.51% Token: |79|\n",
    "Top 0th token. Logit: 12.48 Prob: 12.00% Token: |.|\n",
    "Ranks of the answer tokens: [(' 5', 6), ('79', 27)]\n",
    "\n",
    "\n",
    "prompt=|123+ 456 =|, answer=| 579|\n",
    "Tokenized prompt: ['<|endoftext|>', '123', '+', ' 4', '56', ' =']\n",
    "Tokenized answer: [' 5', '79']\n",
    "Performance on answer token:\n",
    "Rank: 5        Logit:  9.91 Prob:  1.63% Token: | 5|\n",
    "Top 0th token. Logit: 10.61 Prob:  3.29% Token: | 1|\n",
    "Performance on answer token:\n",
    "Rank: 80       Logit:  8.25 Prob:  0.26% Token: |79|\n",
    "Top 0th token. Logit: 11.77 Prob:  8.72% Token: |.|\n",
    "Ranks of the answer tokens: [(' 5', 5), ('79', 80)]\n",
    "```\n",
    "\n",
    "* first output token logit diff from answer token logit = `|11.39 - 11.95| = -0.56`\n",
    "* second output token logit diff from answer token logit = `|9.31 - 12.48| = -3.17`\n",
    "\n"
   ]
  },
  {
   "cell_type": "code",
   "execution_count": 49,
   "metadata": {},
   "outputs": [
    {
     "name": "stdout",
     "output_type": "stream",
     "text": [
      "correct_wrong_answer_tokens=tensor([[642, 352]], device='mps:0')\n",
      "Answer residual directions shape: torch.Size([1, 2, 768])\n",
      "answer_residual_directions[0,0,0]=tensor(-0.1862, device='mps:0')\n",
      "logit for token | 5|: output_logit0[0, -1, 642]=tensor(11.3875, device='mps:0')\n",
      "logit for token | 1|: output_logit0[0, -1, 352]=tensor(11.9513, device='mps:0')\n",
      "logit for token |79|: output_logit1[0, -1, 3720]=tensor(9.3148, device='mps:0')\n",
      "scaled_final_token_residual_stream.shape=torch.Size([1, 768])\n",
      "scaled_final_token_residual_stream[0,0]=tensor(0.1353, device='mps:0')\n",
      "cache0[\"ln_final.hook_normalized\"].shape=torch.Size([1, 6, 768])\n",
      "cache0[\"ln_final.hook_normalized\"][0,-1,0]=tensor(0.1353, device='mps:0')\n",
      "calculated_logit_diff.shape=torch.Size([1, 50257])\n",
      "calculated_logit_diff[0,642]=tensor(11.3875, device='mps:0')\n",
      "answer_logits=tensor([[11.3875, 11.9513]], device='mps:0')\n",
      "Per prompt logit difference: tensor([-0.5640])\n",
      "labels=['0_pre', '0_mid', '1_pre', '1_mid', '2_pre', '2_mid', '3_pre', '3_mid', '4_pre', '4_mid', '5_pre', '5_mid', '6_pre', '6_mid', '7_pre', '7_mid', '8_pre', '8_mid', '9_pre', '9_mid', '10_pre', '10_mid', '11_pre', '11_mid', 'final_post']\n",
      "accumulated_residual.shape=torch.Size([25, 1, 50257])\n"
     ]
    },
    {
     "data": {
      "application/vnd.plotly.v1+json": {
       "config": {
        "plotlyServerURL": "https://plot.ly"
       },
       "data": [
        {
         "type": "scatter",
         "x": [
          0,
          0.5,
          1,
          1.5,
          2,
          2.5,
          3,
          3.5,
          4,
          4.5,
          5,
          5.5,
          6,
          6.5,
          7,
          7.5,
          8,
          8.5,
          9,
          9.5,
          10,
          10.5,
          11,
          11.5,
          12
         ],
         "y": [
          3.6696622371673584,
          4.231120586395264,
          4.626767635345459,
          4.727385997772217,
          4.77799654006958,
          4.851640224456787,
          4.844335079193115,
          4.909846305847168,
          4.917414665222168,
          4.991655349731445,
          5.138003349304199,
          5.27257776260376,
          5.256338596343994,
          5.358865261077881,
          5.7076616287231445,
          5.811056137084961,
          6.268683433532715,
          6.622237205505371,
          7.2921295166015625,
          7.409929275512695,
          8.282735824584961,
          8.503011703491211,
          10.087493896484375,
          10.967758178710938,
          11.387475967407227
         ]
        },
        {
         "type": "scatter",
         "x": [
          0,
          0.5,
          1,
          1.5,
          2,
          2.5,
          3,
          3.5,
          4,
          4.5,
          5,
          5.5,
          6,
          6.5,
          7,
          7.5,
          8,
          8.5,
          9,
          9.5,
          10,
          10.5,
          11,
          11.5,
          12
         ],
         "y": [
          4.375952243804932,
          5.032648086547852,
          5.6982011795043945,
          5.78743839263916,
          5.7848615646362305,
          5.811000823974609,
          5.837385654449463,
          5.816405296325684,
          5.948812007904053,
          5.979449272155762,
          6.242300510406494,
          6.33037805557251,
          6.261652946472168,
          6.298059463500977,
          6.587341785430908,
          6.702789306640625,
          7.147022247314453,
          7.495025634765625,
          8.141253471374512,
          8.273406028747559,
          9.134122848510742,
          9.301618576049805,
          10.633689880371094,
          11.621858596801758,
          11.951305389404297
         ]
        },
        {
         "type": "scatter",
         "x": [
          0,
          0.5,
          1,
          1.5,
          2,
          2.5,
          3,
          3.5,
          4,
          4.5,
          5,
          5.5,
          6,
          6.5,
          7,
          7.5,
          8,
          8.5,
          9,
          9.5,
          10,
          10.5,
          11,
          11.5,
          12
         ],
         "y": [
          0.9309297800064087,
          1.3078725337982178,
          1.2847545146942139,
          1.4114346504211426,
          1.4404449462890625,
          1.6222987174987793,
          1.6493525505065918,
          1.7352216243743896,
          1.829268455505371,
          1.8755278587341309,
          1.86865234375,
          1.9174153804779053,
          1.8818724155426025,
          2.189742088317871,
          2.190274715423584,
          2.2617299556732178,
          2.4267678260803223,
          2.8167552947998047,
          2.927534341812134,
          2.9737296104431152,
          2.961331844329834,
          3.22421932220459,
          3.2718231678009033,
          3.3835644721984863,
          3.446800947189331
         ]
        }
       ],
       "layout": {
        "template": {
         "data": {
          "bar": [
           {
            "error_x": {
             "color": "#2a3f5f"
            },
            "error_y": {
             "color": "#2a3f5f"
            },
            "marker": {
             "line": {
              "color": "#E5ECF6",
              "width": 0.5
             },
             "pattern": {
              "fillmode": "overlay",
              "size": 10,
              "solidity": 0.2
             }
            },
            "type": "bar"
           }
          ],
          "barpolar": [
           {
            "marker": {
             "line": {
              "color": "#E5ECF6",
              "width": 0.5
             },
             "pattern": {
              "fillmode": "overlay",
              "size": 10,
              "solidity": 0.2
             }
            },
            "type": "barpolar"
           }
          ],
          "carpet": [
           {
            "aaxis": {
             "endlinecolor": "#2a3f5f",
             "gridcolor": "white",
             "linecolor": "white",
             "minorgridcolor": "white",
             "startlinecolor": "#2a3f5f"
            },
            "baxis": {
             "endlinecolor": "#2a3f5f",
             "gridcolor": "white",
             "linecolor": "white",
             "minorgridcolor": "white",
             "startlinecolor": "#2a3f5f"
            },
            "type": "carpet"
           }
          ],
          "choropleth": [
           {
            "colorbar": {
             "outlinewidth": 0,
             "ticks": ""
            },
            "type": "choropleth"
           }
          ],
          "contour": [
           {
            "colorbar": {
             "outlinewidth": 0,
             "ticks": ""
            },
            "colorscale": [
             [
              0,
              "#0d0887"
             ],
             [
              0.1111111111111111,
              "#46039f"
             ],
             [
              0.2222222222222222,
              "#7201a8"
             ],
             [
              0.3333333333333333,
              "#9c179e"
             ],
             [
              0.4444444444444444,
              "#bd3786"
             ],
             [
              0.5555555555555556,
              "#d8576b"
             ],
             [
              0.6666666666666666,
              "#ed7953"
             ],
             [
              0.7777777777777778,
              "#fb9f3a"
             ],
             [
              0.8888888888888888,
              "#fdca26"
             ],
             [
              1,
              "#f0f921"
             ]
            ],
            "type": "contour"
           }
          ],
          "contourcarpet": [
           {
            "colorbar": {
             "outlinewidth": 0,
             "ticks": ""
            },
            "type": "contourcarpet"
           }
          ],
          "heatmap": [
           {
            "colorbar": {
             "outlinewidth": 0,
             "ticks": ""
            },
            "colorscale": [
             [
              0,
              "#0d0887"
             ],
             [
              0.1111111111111111,
              "#46039f"
             ],
             [
              0.2222222222222222,
              "#7201a8"
             ],
             [
              0.3333333333333333,
              "#9c179e"
             ],
             [
              0.4444444444444444,
              "#bd3786"
             ],
             [
              0.5555555555555556,
              "#d8576b"
             ],
             [
              0.6666666666666666,
              "#ed7953"
             ],
             [
              0.7777777777777778,
              "#fb9f3a"
             ],
             [
              0.8888888888888888,
              "#fdca26"
             ],
             [
              1,
              "#f0f921"
             ]
            ],
            "type": "heatmap"
           }
          ],
          "heatmapgl": [
           {
            "colorbar": {
             "outlinewidth": 0,
             "ticks": ""
            },
            "colorscale": [
             [
              0,
              "#0d0887"
             ],
             [
              0.1111111111111111,
              "#46039f"
             ],
             [
              0.2222222222222222,
              "#7201a8"
             ],
             [
              0.3333333333333333,
              "#9c179e"
             ],
             [
              0.4444444444444444,
              "#bd3786"
             ],
             [
              0.5555555555555556,
              "#d8576b"
             ],
             [
              0.6666666666666666,
              "#ed7953"
             ],
             [
              0.7777777777777778,
              "#fb9f3a"
             ],
             [
              0.8888888888888888,
              "#fdca26"
             ],
             [
              1,
              "#f0f921"
             ]
            ],
            "type": "heatmapgl"
           }
          ],
          "histogram": [
           {
            "marker": {
             "pattern": {
              "fillmode": "overlay",
              "size": 10,
              "solidity": 0.2
             }
            },
            "type": "histogram"
           }
          ],
          "histogram2d": [
           {
            "colorbar": {
             "outlinewidth": 0,
             "ticks": ""
            },
            "colorscale": [
             [
              0,
              "#0d0887"
             ],
             [
              0.1111111111111111,
              "#46039f"
             ],
             [
              0.2222222222222222,
              "#7201a8"
             ],
             [
              0.3333333333333333,
              "#9c179e"
             ],
             [
              0.4444444444444444,
              "#bd3786"
             ],
             [
              0.5555555555555556,
              "#d8576b"
             ],
             [
              0.6666666666666666,
              "#ed7953"
             ],
             [
              0.7777777777777778,
              "#fb9f3a"
             ],
             [
              0.8888888888888888,
              "#fdca26"
             ],
             [
              1,
              "#f0f921"
             ]
            ],
            "type": "histogram2d"
           }
          ],
          "histogram2dcontour": [
           {
            "colorbar": {
             "outlinewidth": 0,
             "ticks": ""
            },
            "colorscale": [
             [
              0,
              "#0d0887"
             ],
             [
              0.1111111111111111,
              "#46039f"
             ],
             [
              0.2222222222222222,
              "#7201a8"
             ],
             [
              0.3333333333333333,
              "#9c179e"
             ],
             [
              0.4444444444444444,
              "#bd3786"
             ],
             [
              0.5555555555555556,
              "#d8576b"
             ],
             [
              0.6666666666666666,
              "#ed7953"
             ],
             [
              0.7777777777777778,
              "#fb9f3a"
             ],
             [
              0.8888888888888888,
              "#fdca26"
             ],
             [
              1,
              "#f0f921"
             ]
            ],
            "type": "histogram2dcontour"
           }
          ],
          "mesh3d": [
           {
            "colorbar": {
             "outlinewidth": 0,
             "ticks": ""
            },
            "type": "mesh3d"
           }
          ],
          "parcoords": [
           {
            "line": {
             "colorbar": {
              "outlinewidth": 0,
              "ticks": ""
             }
            },
            "type": "parcoords"
           }
          ],
          "pie": [
           {
            "automargin": true,
            "type": "pie"
           }
          ],
          "scatter": [
           {
            "fillpattern": {
             "fillmode": "overlay",
             "size": 10,
             "solidity": 0.2
            },
            "type": "scatter"
           }
          ],
          "scatter3d": [
           {
            "line": {
             "colorbar": {
              "outlinewidth": 0,
              "ticks": ""
             }
            },
            "marker": {
             "colorbar": {
              "outlinewidth": 0,
              "ticks": ""
             }
            },
            "type": "scatter3d"
           }
          ],
          "scattercarpet": [
           {
            "marker": {
             "colorbar": {
              "outlinewidth": 0,
              "ticks": ""
             }
            },
            "type": "scattercarpet"
           }
          ],
          "scattergeo": [
           {
            "marker": {
             "colorbar": {
              "outlinewidth": 0,
              "ticks": ""
             }
            },
            "type": "scattergeo"
           }
          ],
          "scattergl": [
           {
            "marker": {
             "colorbar": {
              "outlinewidth": 0,
              "ticks": ""
             }
            },
            "type": "scattergl"
           }
          ],
          "scattermapbox": [
           {
            "marker": {
             "colorbar": {
              "outlinewidth": 0,
              "ticks": ""
             }
            },
            "type": "scattermapbox"
           }
          ],
          "scatterpolar": [
           {
            "marker": {
             "colorbar": {
              "outlinewidth": 0,
              "ticks": ""
             }
            },
            "type": "scatterpolar"
           }
          ],
          "scatterpolargl": [
           {
            "marker": {
             "colorbar": {
              "outlinewidth": 0,
              "ticks": ""
             }
            },
            "type": "scatterpolargl"
           }
          ],
          "scatterternary": [
           {
            "marker": {
             "colorbar": {
              "outlinewidth": 0,
              "ticks": ""
             }
            },
            "type": "scatterternary"
           }
          ],
          "surface": [
           {
            "colorbar": {
             "outlinewidth": 0,
             "ticks": ""
            },
            "colorscale": [
             [
              0,
              "#0d0887"
             ],
             [
              0.1111111111111111,
              "#46039f"
             ],
             [
              0.2222222222222222,
              "#7201a8"
             ],
             [
              0.3333333333333333,
              "#9c179e"
             ],
             [
              0.4444444444444444,
              "#bd3786"
             ],
             [
              0.5555555555555556,
              "#d8576b"
             ],
             [
              0.6666666666666666,
              "#ed7953"
             ],
             [
              0.7777777777777778,
              "#fb9f3a"
             ],
             [
              0.8888888888888888,
              "#fdca26"
             ],
             [
              1,
              "#f0f921"
             ]
            ],
            "type": "surface"
           }
          ],
          "table": [
           {
            "cells": {
             "fill": {
              "color": "#EBF0F8"
             },
             "line": {
              "color": "white"
             }
            },
            "header": {
             "fill": {
              "color": "#C8D4E3"
             },
             "line": {
              "color": "white"
             }
            },
            "type": "table"
           }
          ]
         },
         "layout": {
          "annotationdefaults": {
           "arrowcolor": "#2a3f5f",
           "arrowhead": 0,
           "arrowwidth": 1
          },
          "autotypenumbers": "strict",
          "coloraxis": {
           "colorbar": {
            "outlinewidth": 0,
            "ticks": ""
           }
          },
          "colorscale": {
           "diverging": [
            [
             0,
             "#8e0152"
            ],
            [
             0.1,
             "#c51b7d"
            ],
            [
             0.2,
             "#de77ae"
            ],
            [
             0.3,
             "#f1b6da"
            ],
            [
             0.4,
             "#fde0ef"
            ],
            [
             0.5,
             "#f7f7f7"
            ],
            [
             0.6,
             "#e6f5d0"
            ],
            [
             0.7,
             "#b8e186"
            ],
            [
             0.8,
             "#7fbc41"
            ],
            [
             0.9,
             "#4d9221"
            ],
            [
             1,
             "#276419"
            ]
           ],
           "sequential": [
            [
             0,
             "#0d0887"
            ],
            [
             0.1111111111111111,
             "#46039f"
            ],
            [
             0.2222222222222222,
             "#7201a8"
            ],
            [
             0.3333333333333333,
             "#9c179e"
            ],
            [
             0.4444444444444444,
             "#bd3786"
            ],
            [
             0.5555555555555556,
             "#d8576b"
            ],
            [
             0.6666666666666666,
             "#ed7953"
            ],
            [
             0.7777777777777778,
             "#fb9f3a"
            ],
            [
             0.8888888888888888,
             "#fdca26"
            ],
            [
             1,
             "#f0f921"
            ]
           ],
           "sequentialminus": [
            [
             0,
             "#0d0887"
            ],
            [
             0.1111111111111111,
             "#46039f"
            ],
            [
             0.2222222222222222,
             "#7201a8"
            ],
            [
             0.3333333333333333,
             "#9c179e"
            ],
            [
             0.4444444444444444,
             "#bd3786"
            ],
            [
             0.5555555555555556,
             "#d8576b"
            ],
            [
             0.6666666666666666,
             "#ed7953"
            ],
            [
             0.7777777777777778,
             "#fb9f3a"
            ],
            [
             0.8888888888888888,
             "#fdca26"
            ],
            [
             1,
             "#f0f921"
            ]
           ]
          },
          "colorway": [
           "#636efa",
           "#EF553B",
           "#00cc96",
           "#ab63fa",
           "#FFA15A",
           "#19d3f3",
           "#FF6692",
           "#B6E880",
           "#FF97FF",
           "#FECB52"
          ],
          "font": {
           "color": "#2a3f5f"
          },
          "geo": {
           "bgcolor": "white",
           "lakecolor": "white",
           "landcolor": "#E5ECF6",
           "showlakes": true,
           "showland": true,
           "subunitcolor": "white"
          },
          "hoverlabel": {
           "align": "left"
          },
          "hovermode": "closest",
          "mapbox": {
           "style": "light"
          },
          "paper_bgcolor": "white",
          "plot_bgcolor": "#E5ECF6",
          "polar": {
           "angularaxis": {
            "gridcolor": "white",
            "linecolor": "white",
            "ticks": ""
           },
           "bgcolor": "#E5ECF6",
           "radialaxis": {
            "gridcolor": "white",
            "linecolor": "white",
            "ticks": ""
           }
          },
          "scene": {
           "xaxis": {
            "backgroundcolor": "#E5ECF6",
            "gridcolor": "white",
            "gridwidth": 2,
            "linecolor": "white",
            "showbackground": true,
            "ticks": "",
            "zerolinecolor": "white"
           },
           "yaxis": {
            "backgroundcolor": "#E5ECF6",
            "gridcolor": "white",
            "gridwidth": 2,
            "linecolor": "white",
            "showbackground": true,
            "ticks": "",
            "zerolinecolor": "white"
           },
           "zaxis": {
            "backgroundcolor": "#E5ECF6",
            "gridcolor": "white",
            "gridwidth": 2,
            "linecolor": "white",
            "showbackground": true,
            "ticks": "",
            "zerolinecolor": "white"
           }
          },
          "shapedefaults": {
           "line": {
            "color": "#2a3f5f"
           }
          },
          "ternary": {
           "aaxis": {
            "gridcolor": "white",
            "linecolor": "white",
            "ticks": ""
           },
           "baxis": {
            "gridcolor": "white",
            "linecolor": "white",
            "ticks": ""
           },
           "bgcolor": "#E5ECF6",
           "caxis": {
            "gridcolor": "white",
            "linecolor": "white",
            "ticks": ""
           }
          },
          "title": {
           "x": 0.05
          },
          "xaxis": {
           "automargin": true,
           "gridcolor": "white",
           "linecolor": "white",
           "ticks": "",
           "title": {
            "standoff": 15
           },
           "zerolinecolor": "white",
           "zerolinewidth": 2
          },
          "yaxis": {
           "automargin": true,
           "gridcolor": "white",
           "linecolor": "white",
           "ticks": "",
           "title": {
            "standoff": 15
           },
           "zerolinecolor": "white",
           "zerolinewidth": 2
          }
         }
        }
       }
      }
     },
     "metadata": {},
     "output_type": "display_data"
    },
    {
     "name": "stdout",
     "output_type": "stream",
     "text": [
      "per_layer_residual.shape=torch.Size([26, 1, 768]) labels=['embed', 'pos_embed', '0_attn_out', '0_mlp_out', '1_attn_out', '1_mlp_out', '2_attn_out', '2_mlp_out', '3_attn_out', '3_mlp_out', '4_attn_out', '4_mlp_out', '5_attn_out', '5_mlp_out', '6_attn_out', '6_mlp_out', '7_attn_out', '7_mlp_out', '8_attn_out', '8_mlp_out', '9_attn_out', '9_mlp_out', '10_attn_out', '10_mlp_out', '11_attn_out', '11_mlp_out']\n"
     ]
    },
    {
     "data": {
      "application/vnd.plotly.v1+json": {
       "config": {
        "plotlyServerURL": "https://plot.ly"
       },
       "data": [
        {
         "text": [
          "embed",
          "pos_embed",
          "0_attn_out",
          "0_mlp_out",
          "1_attn_out",
          "1_mlp_out",
          "2_attn_out",
          "2_mlp_out",
          "3_attn_out",
          "3_mlp_out",
          "4_attn_out",
          "4_mlp_out",
          "5_attn_out",
          "5_mlp_out",
          "6_attn_out",
          "6_mlp_out",
          "7_attn_out",
          "7_mlp_out",
          "8_attn_out",
          "8_mlp_out",
          "9_attn_out",
          "9_mlp_out",
          "10_attn_out",
          "10_mlp_out",
          "11_attn_out",
          "11_mlp_out"
         ],
         "type": "scatter",
         "x": [
          0,
          0.5,
          1,
          1.5,
          2,
          2.5,
          3,
          3.5,
          4,
          4.5,
          5,
          5.5,
          6,
          6.5,
          7,
          7.5,
          8,
          8.5,
          9,
          9.5,
          10,
          10.5,
          11,
          11.5,
          12
         ],
         "y": [
          3.643301248550415,
          3.7403764724731445,
          4.275473117828369,
          4.109663009643555,
          3.814634084701538,
          3.7646260261535645,
          3.787658929824829,
          3.7067103385925293,
          3.779527425765991,
          3.721583604812622,
          3.7882566452026367,
          3.860363006591797,
          3.8485896587371826,
          3.6977763175964355,
          3.816541910171509,
          4.062811851501465,
          3.8174102306365967,
          4.171643257141113,
          4.067567825317383,
          4.383910655975342,
          3.831810235977173,
          4.586824893951416,
          3.9342896938323975,
          5.2985005378723145,
          4.594276428222656,
          4.133731365203857
         ]
        },
        {
         "type": "scatter",
         "x": [
          0,
          0.5,
          1,
          1.5,
          2,
          2.5,
          3,
          3.5,
          4,
          4.5,
          5,
          5.5,
          6,
          6.5,
          7,
          7.5,
          8,
          8.5,
          9,
          9.5,
          10,
          10.5,
          11,
          11.5,
          12
         ],
         "y": [
          4.3570356369018555,
          4.414473533630371,
          5.052252769470215,
          5.061110496520996,
          4.484795570373535,
          4.392980098724365,
          4.421695709228516,
          4.42194128036499,
          4.374577522277832,
          4.527961730957031,
          4.426196575164795,
          4.658407211303711,
          4.4836344718933105,
          4.326833248138428,
          4.431961536407471,
          4.68483829498291,
          4.511006832122803,
          4.83978796005249,
          4.743561267852783,
          5.041785717010498,
          4.527709484100342,
          5.256270885467529,
          4.563055515289307,
          5.727628231048584,
          5.38372802734375,
          4.725003242492676
         ]
        },
        {
         "type": "scatter",
         "x": [
          0,
          0.5,
          1,
          1.5,
          2,
          2.5,
          3,
          3.5,
          4,
          4.5,
          5,
          5.5,
          6,
          6.5,
          7,
          7.5,
          8,
          8.5,
          9,
          9.5,
          10,
          10.5,
          11,
          11.5,
          12
         ],
         "y": [
          0.8784413933753967,
          0.9364538192749023,
          1.2609081268310547,
          0.860847532749176,
          1.0106451511383057,
          0.9129768013954163,
          1.0658183097839355,
          0.9110204577445984,
          0.96983402967453,
          0.9780126214027405,
          0.9302248358726501,
          0.8770897388458252,
          0.9327283501625061,
          0.8484228253364563,
          1.1918354034423828,
          0.8844972252845764,
          0.9554204940795898,
          1.0490041971206665,
          1.273953914642334,
          0.9947433471679688,
          0.9301599860191345,
          0.8715675473213196,
          1.1468532085418701,
          0.9315704107284546,
          0.9957064390182495,
          0.947201669216156
         ]
        }
       ],
       "layout": {
        "template": {
         "data": {
          "bar": [
           {
            "error_x": {
             "color": "#2a3f5f"
            },
            "error_y": {
             "color": "#2a3f5f"
            },
            "marker": {
             "line": {
              "color": "#E5ECF6",
              "width": 0.5
             },
             "pattern": {
              "fillmode": "overlay",
              "size": 10,
              "solidity": 0.2
             }
            },
            "type": "bar"
           }
          ],
          "barpolar": [
           {
            "marker": {
             "line": {
              "color": "#E5ECF6",
              "width": 0.5
             },
             "pattern": {
              "fillmode": "overlay",
              "size": 10,
              "solidity": 0.2
             }
            },
            "type": "barpolar"
           }
          ],
          "carpet": [
           {
            "aaxis": {
             "endlinecolor": "#2a3f5f",
             "gridcolor": "white",
             "linecolor": "white",
             "minorgridcolor": "white",
             "startlinecolor": "#2a3f5f"
            },
            "baxis": {
             "endlinecolor": "#2a3f5f",
             "gridcolor": "white",
             "linecolor": "white",
             "minorgridcolor": "white",
             "startlinecolor": "#2a3f5f"
            },
            "type": "carpet"
           }
          ],
          "choropleth": [
           {
            "colorbar": {
             "outlinewidth": 0,
             "ticks": ""
            },
            "type": "choropleth"
           }
          ],
          "contour": [
           {
            "colorbar": {
             "outlinewidth": 0,
             "ticks": ""
            },
            "colorscale": [
             [
              0,
              "#0d0887"
             ],
             [
              0.1111111111111111,
              "#46039f"
             ],
             [
              0.2222222222222222,
              "#7201a8"
             ],
             [
              0.3333333333333333,
              "#9c179e"
             ],
             [
              0.4444444444444444,
              "#bd3786"
             ],
             [
              0.5555555555555556,
              "#d8576b"
             ],
             [
              0.6666666666666666,
              "#ed7953"
             ],
             [
              0.7777777777777778,
              "#fb9f3a"
             ],
             [
              0.8888888888888888,
              "#fdca26"
             ],
             [
              1,
              "#f0f921"
             ]
            ],
            "type": "contour"
           }
          ],
          "contourcarpet": [
           {
            "colorbar": {
             "outlinewidth": 0,
             "ticks": ""
            },
            "type": "contourcarpet"
           }
          ],
          "heatmap": [
           {
            "colorbar": {
             "outlinewidth": 0,
             "ticks": ""
            },
            "colorscale": [
             [
              0,
              "#0d0887"
             ],
             [
              0.1111111111111111,
              "#46039f"
             ],
             [
              0.2222222222222222,
              "#7201a8"
             ],
             [
              0.3333333333333333,
              "#9c179e"
             ],
             [
              0.4444444444444444,
              "#bd3786"
             ],
             [
              0.5555555555555556,
              "#d8576b"
             ],
             [
              0.6666666666666666,
              "#ed7953"
             ],
             [
              0.7777777777777778,
              "#fb9f3a"
             ],
             [
              0.8888888888888888,
              "#fdca26"
             ],
             [
              1,
              "#f0f921"
             ]
            ],
            "type": "heatmap"
           }
          ],
          "heatmapgl": [
           {
            "colorbar": {
             "outlinewidth": 0,
             "ticks": ""
            },
            "colorscale": [
             [
              0,
              "#0d0887"
             ],
             [
              0.1111111111111111,
              "#46039f"
             ],
             [
              0.2222222222222222,
              "#7201a8"
             ],
             [
              0.3333333333333333,
              "#9c179e"
             ],
             [
              0.4444444444444444,
              "#bd3786"
             ],
             [
              0.5555555555555556,
              "#d8576b"
             ],
             [
              0.6666666666666666,
              "#ed7953"
             ],
             [
              0.7777777777777778,
              "#fb9f3a"
             ],
             [
              0.8888888888888888,
              "#fdca26"
             ],
             [
              1,
              "#f0f921"
             ]
            ],
            "type": "heatmapgl"
           }
          ],
          "histogram": [
           {
            "marker": {
             "pattern": {
              "fillmode": "overlay",
              "size": 10,
              "solidity": 0.2
             }
            },
            "type": "histogram"
           }
          ],
          "histogram2d": [
           {
            "colorbar": {
             "outlinewidth": 0,
             "ticks": ""
            },
            "colorscale": [
             [
              0,
              "#0d0887"
             ],
             [
              0.1111111111111111,
              "#46039f"
             ],
             [
              0.2222222222222222,
              "#7201a8"
             ],
             [
              0.3333333333333333,
              "#9c179e"
             ],
             [
              0.4444444444444444,
              "#bd3786"
             ],
             [
              0.5555555555555556,
              "#d8576b"
             ],
             [
              0.6666666666666666,
              "#ed7953"
             ],
             [
              0.7777777777777778,
              "#fb9f3a"
             ],
             [
              0.8888888888888888,
              "#fdca26"
             ],
             [
              1,
              "#f0f921"
             ]
            ],
            "type": "histogram2d"
           }
          ],
          "histogram2dcontour": [
           {
            "colorbar": {
             "outlinewidth": 0,
             "ticks": ""
            },
            "colorscale": [
             [
              0,
              "#0d0887"
             ],
             [
              0.1111111111111111,
              "#46039f"
             ],
             [
              0.2222222222222222,
              "#7201a8"
             ],
             [
              0.3333333333333333,
              "#9c179e"
             ],
             [
              0.4444444444444444,
              "#bd3786"
             ],
             [
              0.5555555555555556,
              "#d8576b"
             ],
             [
              0.6666666666666666,
              "#ed7953"
             ],
             [
              0.7777777777777778,
              "#fb9f3a"
             ],
             [
              0.8888888888888888,
              "#fdca26"
             ],
             [
              1,
              "#f0f921"
             ]
            ],
            "type": "histogram2dcontour"
           }
          ],
          "mesh3d": [
           {
            "colorbar": {
             "outlinewidth": 0,
             "ticks": ""
            },
            "type": "mesh3d"
           }
          ],
          "parcoords": [
           {
            "line": {
             "colorbar": {
              "outlinewidth": 0,
              "ticks": ""
             }
            },
            "type": "parcoords"
           }
          ],
          "pie": [
           {
            "automargin": true,
            "type": "pie"
           }
          ],
          "scatter": [
           {
            "fillpattern": {
             "fillmode": "overlay",
             "size": 10,
             "solidity": 0.2
            },
            "type": "scatter"
           }
          ],
          "scatter3d": [
           {
            "line": {
             "colorbar": {
              "outlinewidth": 0,
              "ticks": ""
             }
            },
            "marker": {
             "colorbar": {
              "outlinewidth": 0,
              "ticks": ""
             }
            },
            "type": "scatter3d"
           }
          ],
          "scattercarpet": [
           {
            "marker": {
             "colorbar": {
              "outlinewidth": 0,
              "ticks": ""
             }
            },
            "type": "scattercarpet"
           }
          ],
          "scattergeo": [
           {
            "marker": {
             "colorbar": {
              "outlinewidth": 0,
              "ticks": ""
             }
            },
            "type": "scattergeo"
           }
          ],
          "scattergl": [
           {
            "marker": {
             "colorbar": {
              "outlinewidth": 0,
              "ticks": ""
             }
            },
            "type": "scattergl"
           }
          ],
          "scattermapbox": [
           {
            "marker": {
             "colorbar": {
              "outlinewidth": 0,
              "ticks": ""
             }
            },
            "type": "scattermapbox"
           }
          ],
          "scatterpolar": [
           {
            "marker": {
             "colorbar": {
              "outlinewidth": 0,
              "ticks": ""
             }
            },
            "type": "scatterpolar"
           }
          ],
          "scatterpolargl": [
           {
            "marker": {
             "colorbar": {
              "outlinewidth": 0,
              "ticks": ""
             }
            },
            "type": "scatterpolargl"
           }
          ],
          "scatterternary": [
           {
            "marker": {
             "colorbar": {
              "outlinewidth": 0,
              "ticks": ""
             }
            },
            "type": "scatterternary"
           }
          ],
          "surface": [
           {
            "colorbar": {
             "outlinewidth": 0,
             "ticks": ""
            },
            "colorscale": [
             [
              0,
              "#0d0887"
             ],
             [
              0.1111111111111111,
              "#46039f"
             ],
             [
              0.2222222222222222,
              "#7201a8"
             ],
             [
              0.3333333333333333,
              "#9c179e"
             ],
             [
              0.4444444444444444,
              "#bd3786"
             ],
             [
              0.5555555555555556,
              "#d8576b"
             ],
             [
              0.6666666666666666,
              "#ed7953"
             ],
             [
              0.7777777777777778,
              "#fb9f3a"
             ],
             [
              0.8888888888888888,
              "#fdca26"
             ],
             [
              1,
              "#f0f921"
             ]
            ],
            "type": "surface"
           }
          ],
          "table": [
           {
            "cells": {
             "fill": {
              "color": "#EBF0F8"
             },
             "line": {
              "color": "white"
             }
            },
            "header": {
             "fill": {
              "color": "#C8D4E3"
             },
             "line": {
              "color": "white"
             }
            },
            "type": "table"
           }
          ]
         },
         "layout": {
          "annotationdefaults": {
           "arrowcolor": "#2a3f5f",
           "arrowhead": 0,
           "arrowwidth": 1
          },
          "autotypenumbers": "strict",
          "coloraxis": {
           "colorbar": {
            "outlinewidth": 0,
            "ticks": ""
           }
          },
          "colorscale": {
           "diverging": [
            [
             0,
             "#8e0152"
            ],
            [
             0.1,
             "#c51b7d"
            ],
            [
             0.2,
             "#de77ae"
            ],
            [
             0.3,
             "#f1b6da"
            ],
            [
             0.4,
             "#fde0ef"
            ],
            [
             0.5,
             "#f7f7f7"
            ],
            [
             0.6,
             "#e6f5d0"
            ],
            [
             0.7,
             "#b8e186"
            ],
            [
             0.8,
             "#7fbc41"
            ],
            [
             0.9,
             "#4d9221"
            ],
            [
             1,
             "#276419"
            ]
           ],
           "sequential": [
            [
             0,
             "#0d0887"
            ],
            [
             0.1111111111111111,
             "#46039f"
            ],
            [
             0.2222222222222222,
             "#7201a8"
            ],
            [
             0.3333333333333333,
             "#9c179e"
            ],
            [
             0.4444444444444444,
             "#bd3786"
            ],
            [
             0.5555555555555556,
             "#d8576b"
            ],
            [
             0.6666666666666666,
             "#ed7953"
            ],
            [
             0.7777777777777778,
             "#fb9f3a"
            ],
            [
             0.8888888888888888,
             "#fdca26"
            ],
            [
             1,
             "#f0f921"
            ]
           ],
           "sequentialminus": [
            [
             0,
             "#0d0887"
            ],
            [
             0.1111111111111111,
             "#46039f"
            ],
            [
             0.2222222222222222,
             "#7201a8"
            ],
            [
             0.3333333333333333,
             "#9c179e"
            ],
            [
             0.4444444444444444,
             "#bd3786"
            ],
            [
             0.5555555555555556,
             "#d8576b"
            ],
            [
             0.6666666666666666,
             "#ed7953"
            ],
            [
             0.7777777777777778,
             "#fb9f3a"
            ],
            [
             0.8888888888888888,
             "#fdca26"
            ],
            [
             1,
             "#f0f921"
            ]
           ]
          },
          "colorway": [
           "#636efa",
           "#EF553B",
           "#00cc96",
           "#ab63fa",
           "#FFA15A",
           "#19d3f3",
           "#FF6692",
           "#B6E880",
           "#FF97FF",
           "#FECB52"
          ],
          "font": {
           "color": "#2a3f5f"
          },
          "geo": {
           "bgcolor": "white",
           "lakecolor": "white",
           "landcolor": "#E5ECF6",
           "showlakes": true,
           "showland": true,
           "subunitcolor": "white"
          },
          "hoverlabel": {
           "align": "left"
          },
          "hovermode": "closest",
          "mapbox": {
           "style": "light"
          },
          "paper_bgcolor": "white",
          "plot_bgcolor": "#E5ECF6",
          "polar": {
           "angularaxis": {
            "gridcolor": "white",
            "linecolor": "white",
            "ticks": ""
           },
           "bgcolor": "#E5ECF6",
           "radialaxis": {
            "gridcolor": "white",
            "linecolor": "white",
            "ticks": ""
           }
          },
          "scene": {
           "xaxis": {
            "backgroundcolor": "#E5ECF6",
            "gridcolor": "white",
            "gridwidth": 2,
            "linecolor": "white",
            "showbackground": true,
            "ticks": "",
            "zerolinecolor": "white"
           },
           "yaxis": {
            "backgroundcolor": "#E5ECF6",
            "gridcolor": "white",
            "gridwidth": 2,
            "linecolor": "white",
            "showbackground": true,
            "ticks": "",
            "zerolinecolor": "white"
           },
           "zaxis": {
            "backgroundcolor": "#E5ECF6",
            "gridcolor": "white",
            "gridwidth": 2,
            "linecolor": "white",
            "showbackground": true,
            "ticks": "",
            "zerolinecolor": "white"
           }
          },
          "shapedefaults": {
           "line": {
            "color": "#2a3f5f"
           }
          },
          "ternary": {
           "aaxis": {
            "gridcolor": "white",
            "linecolor": "white",
            "ticks": ""
           },
           "baxis": {
            "gridcolor": "white",
            "linecolor": "white",
            "ticks": ""
           },
           "bgcolor": "#E5ECF6",
           "caxis": {
            "gridcolor": "white",
            "linecolor": "white",
            "ticks": ""
           }
          },
          "title": {
           "x": 0.05
          },
          "xaxis": {
           "automargin": true,
           "gridcolor": "white",
           "linecolor": "white",
           "ticks": "",
           "title": {
            "standoff": 15
           },
           "zerolinecolor": "white",
           "zerolinewidth": 2
          },
          "yaxis": {
           "automargin": true,
           "gridcolor": "white",
           "linecolor": "white",
           "ticks": "",
           "title": {
            "standoff": 15
           },
           "zerolinecolor": "white",
           "zerolinewidth": 2
          }
         }
        }
       }
      }
     },
     "metadata": {},
     "output_type": "display_data"
    }
   ],
   "source": [
    "correct_wrong_answer_tokens = model.to_tokens(\n",
    "    \" 5 1\", prepend_bos=False).to(DEVICE)\n",
    "print(f'{correct_wrong_answer_tokens=}')\n",
    "answer_residual_directions = model.tokens_to_residual_directions(\n",
    "    correct_wrong_answer_tokens)\n",
    "print(\"Answer residual directions shape:\", answer_residual_directions.shape)\n",
    "# logit_diff_directions = (\n",
    "#     # token | 5| - token | 1|\n",
    "#     answer_residual_directions[:, 0] - answer_residual_directions[:, 1]\n",
    "# )\n",
    "# print(f'{logit_diff_directions.shape=}')\n",
    "print(f'{answer_residual_directions[0,0,0]=}')\n",
    "# logit_diff_directions = (\n",
    "#     answer_residual_directions[:, 0] - answer_residual_directions[:, 1]\n",
    "# )\n",
    "# print(\"Logit difference directions shape:\", logit_diff_directions.shape)\n",
    "\n",
    "# 768 refers to the dimensionality of the embedding and hidden states within the model\n",
    "\n",
    "# cache syntax - resid_post is the residual stream at the end of the layer, -1 gets the final layer.\n",
    "# The general syntax is [activation_name, layer_index, sub_layer_type].\n",
    "input_tokens0 = model.to_tokens(\"123 + 456 =\", prepend_bos=True)\n",
    "output_logit0, cache0 = model.run_with_cache(input_tokens0)\n",
    "print(f'logit for token | 5|: {output_logit0[0, -1, 642]=}')\n",
    "print(f'logit for token | 1|: {output_logit0[0, -1, 352]=}')\n",
    "assert (torch.eq(output_logit0[0, -1, 642].round(decimals=4), 11.3875).item())\n",
    "\n",
    "input_tokens1 = model.to_tokens(\n",
    "    \"123 + 456 = 5\", prepend_bos=True)  # advance 1 more token\n",
    "output_logit1, cache1 = model.run_with_cache(input_tokens1)\n",
    "print(f'logit for token |79|: {output_logit1[0, -1, 3720]=}')\n",
    "assert (torch.eq(output_logit1[0, -1, 3720].round(decimals=4), 9.3148).item())\n",
    "\n",
    "final_residual_stream0 = cache0[\"resid_post\", -1]  # shape [1, 6, 768]\n",
    "final_token_residual_stream = final_residual_stream0[:, -1, :]\n",
    "# Apply LayerNorm scaling\n",
    "# pos_slice is the subset of the positions we take - here the final token of each prompt\n",
    "scaled_final_token_residual_stream = cache0.apply_ln_to_stack(\n",
    "    final_token_residual_stream, layer=-1, pos_slice=-1\n",
    ")\n",
    "print(f'{scaled_final_token_residual_stream.shape=}')\n",
    "print(f'{scaled_final_token_residual_stream[0,0]=}')\n",
    "print(f'{cache0[\"ln_final.hook_normalized\"].shape=}')\n",
    "print(f'{cache0[\"ln_final.hook_normalized\"][0,-1,0]=}')\n",
    "\n",
    "calculated_logit_diff = cache0[\"ln_final.hook_normalized\"][:, -1, :]\n",
    "calculated_logit_diff = calculated_logit_diff @ model.unembed.W_U + model.unembed.b_U\n",
    "print(f'{calculated_logit_diff.shape=}')\n",
    "print(f'{calculated_logit_diff[0,642]=}')\n",
    "\n",
    "\n",
    "def logits_to_ave_logit_diff(logits, answer_tokens):\n",
    "    # Only the final logits are relevant for the answer\n",
    "    final_logits = logits[:, -1, :]\n",
    "    answer_logits = final_logits.gather(dim=-1, index=answer_tokens)\n",
    "    print(f'{answer_logits=}')\n",
    "    return answer_logits[:, 0] - answer_logits[:, 1]\n",
    "\n",
    "\n",
    "print(\n",
    "    \"Per prompt logit difference:\",\n",
    "    logits_to_ave_logit_diff(output_logit0, correct_wrong_answer_tokens)\n",
    "    .detach()\n",
    "    .cpu()\n",
    "    .round(decimals=3),\n",
    ")\n",
    "\n",
    "# ============== logit lens\n",
    "\n",
    "accumulated_residual, labels = cache0.accumulated_resid(\n",
    "    layer=-1, incl_mid=True, pos_slice=-1, return_labels=True, apply_ln=True\n",
    ")\n",
    "print(f'{labels=}')\n",
    "accumulated_residual = accumulated_residual @ model.unembed.W_U + model.unembed.b_U\n",
    "print(f'{accumulated_residual.shape=}')\n",
    "# line(\n",
    "#     torch.stack((accumulated_residual[:, 0, 642],\n",
    "#                 accumulated_residual[:, 0, 352])),\n",
    "#     x=np.arange(model.cfg.n_layers * 2 + 1) / 2,\n",
    "#     hover_name=labels,\n",
    "#     title=\"Logit Difference From Accumulate Residual Stream\",\n",
    "# )\n",
    "\n",
    "fig = go.Figure()\n",
    "fig.add_trace(go.Scatter(\n",
    "    x=np.arange(model.cfg.n_layers * 2 + 1) / 2,\n",
    "    y=utils.to_numpy(accumulated_residual[:, 0, 642]),\n",
    "))\n",
    "fig.add_trace(go.Scatter(\n",
    "    x=np.arange(model.cfg.n_layers * 2 + 1) / 2,\n",
    "    y=utils.to_numpy(accumulated_residual[:, 0, 352]),\n",
    "))\n",
    "fig.add_trace(go.Scatter(\n",
    "    x=np.arange(model.cfg.n_layers * 2 + 1) / 2,\n",
    "    y=utils.to_numpy(accumulated_residual[:, 0, 3720]),\n",
    "))\n",
    "fig.show()\n",
    "\n",
    "per_layer_residual, labels = cache0.decompose_resid(\n",
    "    layer=-1, pos_slice=-1, return_labels=True, apply_ln=True\n",
    ")\n",
    "print(f'{per_layer_residual.shape=} {labels=}')\n",
    "per_layer_residual = per_layer_residual @ model.unembed.W_U + model.unembed.b_U\n",
    "fig = go.Figure()\n",
    "fig.add_trace(go.Scatter(\n",
    "    x=np.arange(model.cfg.n_layers * 2 + 1) / 2,\n",
    "    y=utils.to_numpy(per_layer_residual[:, 0, 642]),\n",
    "    text=labels,\n",
    "))\n",
    "fig.add_trace(go.Scatter(\n",
    "    x=np.arange(model.cfg.n_layers * 2 + 1) / 2,\n",
    "    y=utils.to_numpy(per_layer_residual[:, 0, 352]),\n",
    "))\n",
    "fig.add_trace(go.Scatter(\n",
    "    x=np.arange(model.cfg.n_layers * 2 + 1) / 2,\n",
    "    y=utils.to_numpy(per_layer_residual[:, 0, 3720]),\n",
    "))\n",
    "fig.show()"
   ]
  },
  {
   "cell_type": "markdown",
   "metadata": {},
   "source": [
    "---"
   ]
  },
  {
   "cell_type": "code",
   "execution_count": 5,
   "metadata": {},
   "outputs": [
    {
     "data": {
      "text/html": [
       "<div id=\"circuits-vis-b2666a01-4c14\" style=\"margin: 15px 0;\"/>\n",
       "    <script crossorigin type=\"module\">\n",
       "    import { render, AttentionPatterns } from \"https://unpkg.com/circuitsvis@1.43.2/dist/cdn/esm.js\";\n",
       "    render(\n",
       "      \"circuits-vis-b2666a01-4c14\",\n",
       "      AttentionPatterns,\n",
       "      {\"tokens\": [\"<|endoftext|>\", \" 123\", \"456\", \"754\", \"234\", \" +\", \" 8\", \"47\", \"29\", \"12\", \"34\", \"75\"], \"attention\": [[[1.0, 0.0, 0.0, 0.0, 0.0, 0.0, 0.0, 0.0, 0.0, 0.0, 0.0, 0.0], [0.9431744813919067, 0.05682552233338356, 0.0, 0.0, 0.0, 0.0, 0.0, 0.0, 0.0, 0.0, 0.0, 0.0], [0.6883711218833923, 0.11798541247844696, 0.19364354014396667, 0.0, 0.0, 0.0, 0.0, 0.0, 0.0, 0.0, 0.0, 0.0], [0.5918489694595337, 0.14026135206222534, 0.19621284306049347, 0.0716768205165863, 0.0, 0.0, 0.0, 0.0, 0.0, 0.0, 0.0, 0.0], [0.5598937273025513, 0.13520310819149017, 0.17235735058784485, 0.0850234255194664, 0.04752236232161522, 0.0, 0.0, 0.0, 0.0, 0.0, 0.0, 0.0], [0.6054679155349731, 0.09311813861131668, 0.11288966983556747, 0.07436099648475647, 0.04652687534689903, 0.06763647496700287, 0.0, 0.0, 0.0, 0.0, 0.0, 0.0], [0.24647676944732666, 0.05195322632789612, 0.31407755613327026, 0.19439736008644104, 0.1078362688422203, 0.07948825508356094, 0.0057706027291715145, 0.0, 0.0, 0.0, 0.0, 0.0], [0.20403514802455902, 0.09200885891914368, 0.22797001898288727, 0.16605815291404724, 0.13840708136558533, 0.07463778555393219, 0.04201963171362877, 0.05486328899860382, 0.0, 0.0, 0.0, 0.0], [0.18594740331172943, 0.06068615987896919, 0.29300013184547424, 0.162803515791893, 0.08196006715297699, 0.05204607918858528, 0.018871892243623734, 0.09738754481077194, 0.047297220677137375, 0.0, 0.0, 0.0], [0.21809159219264984, 0.08258793503046036, 0.1978236585855484, 0.19143475592136383, 0.08260492235422134, 0.032556094229221344, 0.027579909190535545, 0.08009068667888641, 0.04891875013709068, 0.038311667740345, 0.0, 0.0], [0.16565842926502228, 0.06506334990262985, 0.19098061323165894, 0.14058423042297363, 0.05551011487841606, 0.0458381250500679, 0.03749461844563484, 0.07954887300729752, 0.06621257215738297, 0.07658620923757553, 0.07652286440134048, 0.0], [0.17495331168174744, 0.0580342598259449, 0.1775340735912323, 0.07626382261514664, 0.10460475087165833, 0.0631260871887207, 0.044217661023139954, 0.06545321643352509, 0.05817236006259918, 0.07446466386318207, 0.051404036581516266, 0.051771774888038635]], [[1.0, 0.0, 0.0, 0.0, 0.0, 0.0, 0.0, 0.0, 0.0, 0.0, 0.0, 0.0], [5.29016979271546e-05, 0.9999470710754395, 0.0, 0.0, 0.0, 0.0, 0.0, 0.0, 0.0, 0.0, 0.0, 0.0], [1.9502791474224068e-05, 0.005031966604292393, 0.9949485063552856, 0.0, 0.0, 0.0, 0.0, 0.0, 0.0, 0.0, 0.0, 0.0], [1.8082237147609703e-05, 0.000675378309097141, 0.00023436459014192224, 0.9990720748901367, 0.0, 0.0, 0.0, 0.0, 0.0, 0.0, 0.0, 0.0], [9.21816608752124e-05, 0.015445749275386333, 0.0025596360210329294, 0.0024678551126271486, 0.9794345498085022, 0.0, 0.0, 0.0, 0.0, 0.0, 0.0, 0.0], [0.000929127971176058, 6.641649815719575e-05, 7.18899755156599e-05, 1.7859383660834283e-05, 1.6376598068745807e-05, 0.9988982677459717, 0.0, 0.0, 0.0, 0.0, 0.0, 0.0], [0.0003818329714704305, 6.251602462725714e-05, 0.0002908020978793502, 0.0003570814151316881, 3.896737689501606e-05, 0.00022142581292428076, 0.9986472725868225, 0.0, 0.0, 0.0, 0.0, 0.0], [0.0001867054234026, 0.0031592128798365593, 0.0005925371660850942, 0.00025770950014702976, 1.1326723324600607e-05, 0.0001096186024369672, 0.000128505562315695, 0.995554506778717, 0.0, 0.0, 0.0, 0.0], [0.00037872089887969196, 0.0007299479329958558, 3.0029354093130678e-05, 0.00036283527151681483, 0.00019585949485190213, 5.8053366956301033e-05, 7.292933878488839e-05, 0.00011368422565283254, 0.998058021068573, 0.0, 0.0, 0.0], [0.00032030927832238376, 0.007269062101840973, 0.001777597120963037, 0.0002625979541335255, 0.0004167848965153098, 0.0002918808604590595, 0.004023302812129259, 4.038177212351002e-05, 8.503262506565079e-05, 0.9855130314826965, 0.0, 0.0], [0.0002739287738222629, 0.000521963753271848, 0.0004120763042010367, 0.0010752620873972774, 0.0048486921004951, 0.0003959427704103291, 0.00039192484109662473, 8.696530130691826e-05, 0.0012726521817967296, 0.00013995423796586692, 0.9905804991722107, 0.0], [0.0004489531565923244, 0.0004913453012704849, 4.523537791101262e-05, 0.006892429664731026, 2.6937959773931652e-05, 0.0019154896726831794, 0.00020618774578906596, 0.0001095030820579268, 0.0005283266073092818, 0.000290137279080227, 8.77241382113425e-06, 0.9890366196632385]], [[1.0, 0.0, 0.0, 0.0, 0.0, 0.0, 0.0, 0.0, 0.0, 0.0, 0.0, 0.0], [0.9339519739151001, 0.06604807078838348, 0.0, 0.0, 0.0, 0.0, 0.0, 0.0, 0.0, 0.0, 0.0, 0.0], [0.8851159811019897, 0.049666378647089005, 0.06521765142679214, 0.0, 0.0, 0.0, 0.0, 0.0, 0.0, 0.0, 0.0, 0.0], [0.8218585848808289, 0.06579716503620148, 0.07763829082250595, 0.03470596671104431, 0.0, 0.0, 0.0, 0.0, 0.0, 0.0, 0.0, 0.0], [0.7739949226379395, 0.04566226527094841, 0.0644455999135971, 0.05862109735608101, 0.057276058942079544, 0.0, 0.0, 0.0, 0.0, 0.0, 0.0, 0.0], [0.5980080962181091, 0.12811049818992615, 0.10692276805639267, 0.057341791689395905, 0.0652230829000473, 0.04439377412199974, 0.0, 0.0, 0.0, 0.0, 0.0, 0.0], [0.40915870666503906, 0.14586272835731506, 0.10750122368335724, 0.07605806738138199, 0.091285839676857, 0.06320299208164215, 0.10693050920963287, 0.0, 0.0, 0.0, 0.0, 0.0], [0.5019581913948059, 0.06970728933811188, 0.06026393175125122, 0.08360109478235245, 0.040096547454595566, 0.029445134103298187, 0.07580892741680145, 0.13911892473697662, 0.0, 0.0, 0.0, 0.0], [0.35602498054504395, 0.05978626012802124, 0.05044558271765709, 0.09320610016584396, 0.05758555606007576, 0.022027600556612015, 0.074194997549057, 0.2127864807844162, 0.07394242286682129, 0.0, 0.0, 0.0], [0.27519574761390686, 0.0475398413836956, 0.04954741522669792, 0.0727790966629982, 0.06681656092405319, 0.023461047559976578, 0.05519263446331024, 0.2575506269931793, 0.10802823305130005, 0.04388885945081711, 0.0, 0.0], [0.2647455036640167, 0.04871555045247078, 0.04097673296928406, 0.06320710480213165, 0.05800845846533775, 0.020466970279812813, 0.04256060719490051, 0.1690923571586609, 0.09607907384634018, 0.0967063382267952, 0.099441297352314, 0.0], [0.22576487064361572, 0.037644799798727036, 0.04876268282532692, 0.08214899152517319, 0.04076049476861954, 0.015216258354485035, 0.04396433010697365, 0.18680161237716675, 0.06585860997438431, 0.08527393639087677, 0.10540197044610977, 0.06240145117044449]], [[1.0, 0.0, 0.0, 0.0, 0.0, 0.0, 0.0, 0.0, 0.0, 0.0, 0.0, 0.0], [0.38494980335235596, 0.615050196647644, 0.0, 0.0, 0.0, 0.0, 0.0, 0.0, 0.0, 0.0, 0.0, 0.0], [0.02903922088444233, 0.3994655907154083, 0.5714951157569885, 0.0, 0.0, 0.0, 0.0, 0.0, 0.0, 0.0, 0.0, 0.0], [0.030718252062797546, 0.012140720151364803, 0.012156425975263119, 0.9449845552444458, 0.0, 0.0, 0.0, 0.0, 0.0, 0.0, 0.0, 0.0], [0.013088836334645748, 0.013531263917684555, 0.010047596879303455, 0.018243569880723953, 0.945088803768158, 0.0, 0.0, 0.0, 0.0, 0.0, 0.0, 0.0], [0.0035755662247538567, 0.0008410392911173403, 0.0007970135193318129, 0.002695334143936634, 0.00352873164229095, 0.9885622262954712, 0.0, 0.0, 0.0, 0.0, 0.0, 0.0], [0.00366844329982996, 0.0006007482879795134, 0.0001305778423557058, 0.0008280978654511273, 0.002517350949347019, 0.023072754964232445, 0.9691820740699768, 0.0, 0.0, 0.0, 0.0, 0.0], [0.0024832691997289658, 0.0003447848721407354, 0.0002549355267547071, 0.0004551173478830606, 0.0011434606276452541, 0.0003666628326755017, 0.0034601681400090456, 0.9914916157722473, 0.0, 0.0, 0.0, 0.0], [0.010159905068576336, 0.0009250945295207202, 0.00020318161114118993, 0.0008251204271800816, 0.004376637749373913, 0.0006230344297364354, 0.0018704076064750552, 0.01268294919282198, 0.9683336019515991, 0.0, 0.0, 0.0], [0.0026129409670829773, 0.0008212967659346759, 0.00024556717835366726, 0.0006086447392590344, 0.004287839401513338, 0.0008368802373297513, 0.0021691666916012764, 0.004556033294647932, 0.012676775455474854, 0.9711848497390747, 0.0, 0.0], [0.0027177848387509584, 0.000154296969412826, 0.00017128541367128491, 0.00024162876070477068, 0.0028010846581310034, 0.00012156012962805107, 0.00015350058674812317, 0.005183638539165258, 0.02554086409509182, 0.03516364097595215, 0.9277507066726685, 0.0], [0.001141446060501039, 3.5148957977071404e-05, 1.5291798263206147e-05, 0.0003170180425513536, 0.00023235355911310762, 9.396504174219444e-05, 8.770005661062896e-05, 0.0010417918674647808, 0.01730930618941784, 0.007881388068199158, 0.025314439088106155, 0.9465301036834717]], [[1.0, 0.0, 0.0, 0.0, 0.0, 0.0, 0.0, 0.0, 0.0, 0.0, 0.0, 0.0], [0.292523592710495, 0.7074764370918274, 0.0, 0.0, 0.0, 0.0, 0.0, 0.0, 0.0, 0.0, 0.0, 0.0], [0.03293612599372864, 0.7456049919128418, 0.22145892679691315, 0.0, 0.0, 0.0, 0.0, 0.0, 0.0, 0.0, 0.0, 0.0], [0.059334322810173035, 0.19475872814655304, 0.11143287271261215, 0.6344740390777588, 0.0, 0.0, 0.0, 0.0, 0.0, 0.0, 0.0, 0.0], [0.04431953653693199, 0.31898441910743713, 0.019757123664021492, 0.03554363548755646, 0.5813952684402466, 0.0, 0.0, 0.0, 0.0, 0.0, 0.0, 0.0], [0.1933847963809967, 0.14953848719596863, 0.11878671497106552, 0.053092699497938156, 0.22416162490844727, 0.261035680770874, 0.0, 0.0, 0.0, 0.0, 0.0, 0.0], [0.13334240019321442, 0.09361498057842255, 0.05564381554722786, 0.05507642775774002, 0.12682004272937775, 0.1890990138053894, 0.3464032709598541, 0.0, 0.0, 0.0, 0.0, 0.0], [0.17660415172576904, 0.036740511655807495, 0.02029944397509098, 0.02447950653731823, 0.08944495022296906, 0.054328691214323044, 0.12536175549030304, 0.4727409780025482, 0.0, 0.0, 0.0, 0.0], [0.1043887734413147, 0.06085700914263725, 0.012529258616268635, 0.030376959592103958, 0.06966516375541687, 0.047084011137485504, 0.12165165692567825, 0.08060651272535324, 0.47284069657325745, 0.0, 0.0, 0.0], [0.06192737817764282, 0.10156963020563126, 0.032456912100315094, 0.03724813088774681, 0.0828072652220726, 0.03472937270998955, 0.11896061152219772, 0.12575697898864746, 0.10418885946273804, 0.300354927778244, 0.0, 0.0], [0.053002338856458664, 0.04041516035795212, 0.02231840416789055, 0.04440998286008835, 0.056816089898347855, 0.026808084920048714, 0.023212991654872894, 0.04329709708690643, 0.08647400140762329, 0.12692707777023315, 0.4763187766075134, 0.0], [0.0682104304432869, 0.029753781855106354, 0.007688108365982771, 0.040511395782232285, 0.027620917186141014, 0.016419395804405212, 0.02994159795343876, 0.024714939296245575, 0.10782890766859055, 0.0802392065525055, 0.10013846307992935, 0.46693283319473267]], [[1.0, 0.0, 0.0, 0.0, 0.0, 0.0, 0.0, 0.0, 0.0, 0.0, 0.0, 0.0], [0.04824818670749664, 0.9517517685890198, 0.0, 0.0, 0.0, 0.0, 0.0, 0.0, 0.0, 0.0, 0.0, 0.0], [0.010848071426153183, 0.00018981576431542635, 0.9889621138572693, 0.0, 0.0, 0.0, 0.0, 0.0, 0.0, 0.0, 0.0, 0.0], [0.008917287923395634, 4.9194397433893755e-05, 4.459381307242438e-05, 0.9909890294075012, 0.0, 0.0, 0.0, 0.0, 0.0, 0.0, 0.0, 0.0], [0.006644033826887608, 0.00084769690874964, 4.053116208524443e-05, 8.681326289661229e-05, 0.9923809170722961, 0.0, 0.0, 0.0, 0.0, 0.0, 0.0, 0.0], [0.159332737326622, 6.455794937210158e-05, 0.00020509216119535267, 4.152724432060495e-05, 5.994234470563242e-06, 0.8403500914573669, 0.0, 0.0, 0.0, 0.0, 0.0, 0.0], [0.031005864962935448, 6.57089040032588e-05, 5.6604010751470923e-05, 0.00012792798224836588, 1.937213482960942e-06, 5.97612997808028e-05, 0.9686822295188904, 0.0, 0.0, 0.0, 0.0, 0.0], [0.02730177529156208, 0.0008526680176146328, 0.00044685430475510657, 5.541993687074864e-06, 2.4371927338506794e-06, 1.5437569800269557e-06, 6.348464012262411e-06, 0.971382737159729, 0.0, 0.0, 0.0, 0.0], [0.024185199290513992, 4.117025309824385e-05, 1.2501095625339076e-06, 6.254564505070448e-05, 1.4549058505508583e-05, 6.575970701305778e-07, 1.0821075875355746e-06, 3.057641151826829e-05, 0.9756630063056946, 0.0, 0.0, 0.0], [0.03106083534657955, 0.0012694374890998006, 0.00015783884737174958, 5.048360981163569e-05, 8.556992543162778e-05, 1.9403820260777138e-05, 9.080171003006399e-05, 4.398668806970818e-06, 1.609108949196525e-05, 0.9672451615333557, 0.0, 0.0], [0.021465953439474106, 1.6748714187997393e-05, 3.615304740378633e-05, 0.00010299898713128641, 0.001238171593286097, 1.1001205166394357e-05, 5.813992174807936e-06, 2.2033644199837e-05, 0.0007777927094139159, 1.4755703887203708e-05, 0.9763084053993225, 0.0], [0.0124755147844553, 2.3150763809098862e-05, 2.260313522128854e-05, 0.001141234883107245, 2.8876133910671342e-06, 3.586994353099726e-05, 2.4849116471159505e-06, 6.9098373387532774e-06, 0.00011152838123962283, 4.874126170761883e-05, 1.1199766731806449e-06, 0.9861278533935547]], [[1.0, 0.0, 0.0, 0.0, 0.0, 0.0, 0.0, 0.0, 0.0, 0.0, 0.0, 0.0], [0.9060291051864624, 0.093970887362957, 0.0, 0.0, 0.0, 0.0, 0.0, 0.0, 0.0, 0.0, 0.0, 0.0], [0.5021504759788513, 0.36627325415611267, 0.1315763294696808, 0.0, 0.0, 0.0, 0.0, 0.0, 0.0, 0.0, 0.0, 0.0], [0.43765532970428467, 0.2788829207420349, 0.1714181900024414, 0.11204351484775543, 0.0, 0.0, 0.0, 0.0, 0.0, 0.0, 0.0, 0.0], [0.4750341475009918, 0.20982374250888824, 0.09918348491191864, 0.11283903568983078, 0.10311956703662872, 0.0, 0.0, 0.0, 0.0, 0.0, 0.0, 0.0], [0.5419442057609558, 0.13672465085983276, 0.08662643283605576, 0.12225528806447983, 0.05265777185559273, 0.05979172885417938, 0.0, 0.0, 0.0, 0.0, 0.0, 0.0], [0.14706379175186157, 0.18836890161037445, 0.20000243186950684, 0.20392633974552155, 0.15603967010974884, 0.03552493825554848, 0.06907400488853455, 0.0, 0.0, 0.0, 0.0, 0.0], [0.1492827832698822, 0.10411157459020615, 0.11027755588293076, 0.16152924299240112, 0.2908288538455963, 0.04325466603040695, 0.0695122480392456, 0.0712030902504921, 0.0, 0.0, 0.0, 0.0], [0.13787218928337097, 0.1396169513463974, 0.09360137581825256, 0.10806943476200104, 0.2829156219959259, 0.05296526849269867, 0.041490018367767334, 0.08280368149280548, 0.060665473341941833, 0.0, 0.0, 0.0], [0.13332822918891907, 0.14568501710891724, 0.11819347739219666, 0.10824492573738098, 0.23257051408290863, 0.036195721477270126, 0.06406343728303909, 0.0722159817814827, 0.057147178798913956, 0.03235544264316559, 0.0, 0.0], [0.11646029353141785, 0.12116540223360062, 0.10354854166507721, 0.1317244917154312, 0.1938520073890686, 0.03372318670153618, 0.044708412140607834, 0.08209576457738876, 0.06400001794099808, 0.03663717955350876, 0.07208467274904251, 0.0], [0.12942272424697876, 0.0865645483136177, 0.11564398556947708, 0.10991288721561432, 0.2156532108783722, 0.034733135253190994, 0.051118507981300354, 0.06174341216683388, 0.06382817029953003, 0.03330616652965546, 0.0635262206196785, 0.03454701602458954]], [[1.0, 0.0, 0.0, 0.0, 0.0, 0.0, 0.0, 0.0, 0.0, 0.0, 0.0, 0.0], [0.9662363529205322, 0.033763669431209564, 0.0, 0.0, 0.0, 0.0, 0.0, 0.0, 0.0, 0.0, 0.0, 0.0], [0.16674748063087463, 0.8183688521385193, 0.014883652329444885, 0.0, 0.0, 0.0, 0.0, 0.0, 0.0, 0.0, 0.0, 0.0], [0.5228686928749084, 0.2375132143497467, 0.18233612179756165, 0.05728195235133171, 0.0, 0.0, 0.0, 0.0, 0.0, 0.0, 0.0, 0.0], [0.33737027645111084, 0.21686366200447083, 0.08619147539138794, 0.1494288444519043, 0.2101457566022873, 0.0, 0.0, 0.0, 0.0, 0.0, 0.0, 0.0], [0.13337869942188263, 0.16872860491275787, 0.043070267885923386, 0.12454155832529068, 0.3370365500450134, 0.19324436783790588, 0.0, 0.0, 0.0, 0.0, 0.0, 0.0], [0.12111426144838333, 0.09257892519235611, 0.056573137640953064, 0.04858938604593277, 0.15000633895397186, 0.29776883125305176, 0.2333691120147705, 0.0, 0.0, 0.0, 0.0, 0.0], [0.06884574890136719, 0.0981161892414093, 0.04514239728450775, 0.10349712520837784, 0.09465432912111282, 0.09776550531387329, 0.33855369687080383, 0.15342505276203156, 0.0, 0.0, 0.0, 0.0], [0.06222723796963692, 0.03719737380743027, 0.013691343367099762, 0.025006121024489403, 0.09016038477420807, 0.1055850088596344, 0.22792112827301025, 0.21921373903751373, 0.21899767220020294, 0.0, 0.0, 0.0], [0.04815170541405678, 0.021604374051094055, 0.010454473085701466, 0.029340505599975586, 0.04174099490046501, 0.07699255645275116, 0.14695800840854645, 0.20403917133808136, 0.2672293484210968, 0.1534888595342636, 0.0, 0.0], [0.032953571528196335, 0.028087453916668892, 0.009781594388186932, 0.014007238671183586, 0.01697726361453533, 0.03364081680774689, 0.05329800397157669, 0.05492474511265755, 0.09464980661869049, 0.5092492699623108, 0.1524302214384079, 0.0], [0.045234810560941696, 0.021210117265582085, 0.009844884276390076, 0.0077801840379834175, 0.016942260786890984, 0.026450265198946, 0.05535592511296272, 0.05526948720216751, 0.10548350214958191, 0.28335899114608765, 0.19320142269134521, 0.17986814677715302]], [[1.0, 0.0, 0.0, 0.0, 0.0, 0.0, 0.0, 0.0, 0.0, 0.0, 0.0, 0.0], [0.9581161737442017, 0.041883766651153564, 0.0, 0.0, 0.0, 0.0, 0.0, 0.0, 0.0, 0.0, 0.0, 0.0], [0.8146570324897766, 0.1119534894824028, 0.07338942587375641, 0.0, 0.0, 0.0, 0.0, 0.0, 0.0, 0.0, 0.0, 0.0], [0.7407048940658569, 0.10270097106695175, 0.10411495715379715, 0.05247912183403969, 0.0, 0.0, 0.0, 0.0, 0.0, 0.0, 0.0, 0.0], [0.5622109770774841, 0.1317814141511917, 0.12605269253253937, 0.09704972803592682, 0.08290521800518036, 0.0, 0.0, 0.0, 0.0, 0.0, 0.0, 0.0], [0.6489880681037903, 0.034472882747650146, 0.01252217497676611, 0.01961345411837101, 0.024331271648406982, 0.26007217168807983, 0.0, 0.0, 0.0, 0.0, 0.0, 0.0], [0.24597163498401642, 0.05859832838177681, 0.048578258603811264, 0.042863957583904266, 0.05491425096988678, 0.22559435665607452, 0.32347920536994934, 0.0, 0.0, 0.0, 0.0, 0.0], [0.36674705147743225, 0.1087874323129654, 0.07632158696651459, 0.08463145047426224, 0.08250102400779724, 0.07384216040372849, 0.132307767868042, 0.07486152648925781, 0.0, 0.0, 0.0, 0.0], [0.3052922487258911, 0.07799313962459564, 0.05254141241312027, 0.0590452179312706, 0.08887758105993271, 0.132196307182312, 0.16935083270072937, 0.06287132203578949, 0.05183202773332596, 0.0, 0.0, 0.0], [0.2796872556209564, 0.056391771882772446, 0.05435803905129433, 0.049533385783433914, 0.057802990078926086, 0.13622941076755524, 0.201246440410614, 0.05180284008383751, 0.039922479540109634, 0.07302538305521011, 0.0, 0.0], [0.21710747480392456, 0.08655841648578644, 0.04846353083848953, 0.06356695294380188, 0.05521347001194954, 0.10403161495923996, 0.16991998255252838, 0.05815108120441437, 0.05946046859025955, 0.07767815887928009, 0.059848882257938385, 0.0], [0.24116557836532593, 0.08895599097013474, 0.04841281473636627, 0.07090349495410919, 0.0806632786989212, 0.04728524386882782, 0.07989509403705597, 0.045473482459783554, 0.06210656091570854, 0.06928358972072601, 0.0769544392824173, 0.08890040218830109]], [[1.0, 0.0, 0.0, 0.0, 0.0, 0.0, 0.0, 0.0, 0.0, 0.0, 0.0, 0.0], [0.9545570015907288, 0.04544301703572273, 0.0, 0.0, 0.0, 0.0, 0.0, 0.0, 0.0, 0.0, 0.0, 0.0], [0.8724900484085083, 0.07472484558820724, 0.05278509110212326, 0.0, 0.0, 0.0, 0.0, 0.0, 0.0, 0.0, 0.0, 0.0], [0.8027212619781494, 0.08502320945262909, 0.0732637569308281, 0.03899173438549042, 0.0, 0.0, 0.0, 0.0, 0.0, 0.0, 0.0, 0.0], [0.6661531329154968, 0.10381437093019485, 0.09611093997955322, 0.08585555851459503, 0.04806594178080559, 0.0, 0.0, 0.0, 0.0, 0.0, 0.0, 0.0], [0.5804465413093567, 0.10525058954954147, 0.1024569571018219, 0.06413359194993973, 0.07230120897293091, 0.0754111111164093, 0.0, 0.0, 0.0, 0.0, 0.0, 0.0], [0.479705810546875, 0.0921395868062973, 0.07984262704849243, 0.05842642858624458, 0.07720525562763214, 0.11588267236948013, 0.09679767489433289, 0.0, 0.0, 0.0, 0.0, 0.0], [0.4069128930568695, 0.08773254603147507, 0.09674757719039917, 0.06285414099693298, 0.07326346635818481, 0.09583006054162979, 0.09540379047393799, 0.08125553280115128, 0.0, 0.0, 0.0, 0.0], [0.3959001898765564, 0.07919646799564362, 0.07328509539365768, 0.05102328956127167, 0.06416657567024231, 0.08756767213344574, 0.09418021142482758, 0.0850592628121376, 0.06962122023105621, 0.0, 0.0, 0.0], [0.32954901456832886, 0.07194999605417252, 0.05890372395515442, 0.05607517436146736, 0.05912145972251892, 0.08701769262552261, 0.08724329620599747, 0.09417524188756943, 0.09375856816768646, 0.06220579147338867, 0.0, 0.0], [0.31745269894599915, 0.062296487390995026, 0.06378129124641418, 0.05344025045633316, 0.04460258036851883, 0.07570207118988037, 0.08405163139104843, 0.07914682477712631, 0.07423572242259979, 0.08206035196781158, 0.06323010474443436, 0.0], [0.29412928223609924, 0.05667867138981819, 0.06293804943561554, 0.04684044420719147, 0.05185791477560997, 0.07955513894557953, 0.07637132704257965, 0.07335798442363739, 0.07156334072351456, 0.0700746551156044, 0.0763077586889267, 0.040325429290533066]], [[1.0, 0.0, 0.0, 0.0, 0.0, 0.0, 0.0, 0.0, 0.0, 0.0, 0.0, 0.0], [0.7772497534751892, 0.2227502316236496, 0.0, 0.0, 0.0, 0.0, 0.0, 0.0, 0.0, 0.0, 0.0, 0.0], [0.6525338888168335, 0.10945316404104233, 0.23801292479038239, 0.0, 0.0, 0.0, 0.0, 0.0, 0.0, 0.0, 0.0, 0.0], [0.6477229595184326, 0.08491143584251404, 0.05319111421704292, 0.21417444944381714, 0.0, 0.0, 0.0, 0.0, 0.0, 0.0, 0.0, 0.0], [0.4795443117618561, 0.13957935571670532, 0.07283174246549606, 0.053805120289325714, 0.2542395293712616, 0.0, 0.0, 0.0, 0.0, 0.0, 0.0, 0.0], [0.48074063658714294, 0.08678145706653595, 0.06787368655204773, 0.041932541877031326, 0.05183548107743263, 0.27083620429039, 0.0, 0.0, 0.0, 0.0, 0.0, 0.0], [0.3628249168395996, 0.06455730646848679, 0.05965328589081764, 0.0677114874124527, 0.04670007899403572, 0.09041881561279297, 0.3081340789794922, 0.0, 0.0, 0.0, 0.0, 0.0], [0.2876396179199219, 0.10329815000295639, 0.08319424092769623, 0.048471029847860336, 0.04123314097523689, 0.06839251518249512, 0.06252791732549667, 0.3052434027194977, 0.0, 0.0, 0.0, 0.0], [0.2915308475494385, 0.07986278086900711, 0.040675096213817596, 0.04793942719697952, 0.06821250915527344, 0.06301908195018768, 0.06353851407766342, 0.06817158311605453, 0.27705007791519165, 0.0, 0.0, 0.0], [0.23984377086162567, 0.10135655850172043, 0.0721348449587822, 0.04776271805167198, 0.060074128210544586, 0.051161088049411774, 0.08325500041246414, 0.05295144394040108, 0.047288741916418076, 0.24417173862457275, 0.0, 0.0], [0.1941516399383545, 0.06448047608137131, 0.04132269695401192, 0.04857942834496498, 0.09339812397956848, 0.05745594948530197, 0.06363711506128311, 0.055956948548555374, 0.08940108120441437, 0.04682448133826256, 0.2447921186685562, 0.0], [0.17745628952980042, 0.04828780144453049, 0.041068580001592636, 0.07845491170883179, 0.04306259751319885, 0.07932630181312561, 0.05763714015483856, 0.06327817589044571, 0.05935211479663849, 0.04757300391793251, 0.036100272089242935, 0.26840275526046753]], [[1.0, 0.0, 0.0, 0.0, 0.0, 0.0, 0.0, 0.0, 0.0, 0.0, 0.0, 0.0], [0.6719024777412415, 0.32809752225875854, 0.0, 0.0, 0.0, 0.0, 0.0, 0.0, 0.0, 0.0, 0.0, 0.0], [0.6385135054588318, 0.2494794726371765, 0.11200698465108871, 0.0, 0.0, 0.0, 0.0, 0.0, 0.0, 0.0, 0.0, 0.0], [0.4778769612312317, 0.24899891018867493, 0.12214245647192001, 0.15098172426223755, 0.0, 0.0, 0.0, 0.0, 0.0, 0.0, 0.0, 0.0], [0.4545564651489258, 0.19407421350479126, 0.12171322852373123, 0.11023826897144318, 0.11941783875226974, 0.0, 0.0, 0.0, 0.0, 0.0, 0.0, 0.0], [0.3424510359764099, 0.1287258416414261, 0.14882490038871765, 0.19861382246017456, 0.14416790008544922, 0.03721647337079048, 0.0, 0.0, 0.0, 0.0, 0.0, 0.0], [0.31579819321632385, 0.1309470385313034, 0.14253604412078857, 0.17385755479335785, 0.11670348048210144, 0.055405884981155396, 0.06475178152322769, 0.0, 0.0, 0.0, 0.0, 0.0], [0.3156050443649292, 0.12910346686840057, 0.09490858018398285, 0.13541269302368164, 0.08552636206150055, 0.09000325202941895, 0.0844256654381752, 0.06501489132642746, 0.0, 0.0, 0.0, 0.0], [0.3276575803756714, 0.11335008591413498, 0.08932938426733017, 0.10089817643165588, 0.0794215202331543, 0.07632734626531601, 0.06251687556505203, 0.058440566062927246, 0.09205849468708038, 0.0, 0.0, 0.0], [0.30189192295074463, 0.09287042170763016, 0.09855010360479355, 0.09717920422554016, 0.09028244763612747, 0.04869683086872101, 0.041890885680913925, 0.060057755559682846, 0.09306305646896362, 0.07551738619804382, 0.0, 0.0], [0.2519077658653259, 0.10075075179338455, 0.08455314487218857, 0.09445396065711975, 0.07246279716491699, 0.07147526741027832, 0.05195625498890877, 0.05393226817250252, 0.08669668436050415, 0.05787830054759979, 0.07393275946378708, 0.0], [0.20984023809432983, 0.09844313561916351, 0.07184207439422607, 0.10151317715644836, 0.06574441492557526, 0.05372258648276329, 0.05272848159074783, 0.05431480333209038, 0.07716253399848938, 0.06025722622871399, 0.061313431710004807, 0.09311787039041519]]]}\n",
       "    )\n",
       "    </script>"
      ],
      "text/plain": [
       "<circuitsvis.utils.render.RenderedHTML at 0x32c0fa0d0>"
      ]
     },
     "execution_count": 5,
     "metadata": {},
     "output_type": "execute_result"
    }
   ],
   "source": [
    "text = \" 123456754234 + 84729123475\"\n",
    "tokens = model.to_tokens(text)\n",
    "logits, activations = model.run_with_cache(tokens, remove_batch_dim=True)\n",
    "attention_pattern = activations[\"pattern\", 0, \"attn\"]\n",
    "str_tokens = model.to_str_tokens(text)\n",
    "cv.attention.attention_patterns(tokens=str_tokens, attention=attention_pattern)"
   ]
  },
  {
   "cell_type": "code",
   "execution_count": 6,
   "metadata": {},
   "outputs": [
    {
     "name": "stdout",
     "output_type": "stream",
     "text": [
      "loss=tensor(6.8396, device='mps:0')\n"
     ]
    }
   ],
   "source": [
    "loss = model(tokens, return_type='loss')\n",
    "print(f'{loss=}')"
   ]
  },
  {
   "cell_type": "code",
   "execution_count": 7,
   "metadata": {},
   "outputs": [
    {
     "name": "stdout",
     "output_type": "stream",
     "text": [
      "HookedTransformer(\n",
      "  (embed): Embed()\n",
      "  (hook_embed): HookPoint()\n",
      "  (pos_embed): PosEmbed()\n",
      "  (hook_pos_embed): HookPoint()\n",
      "  (blocks): ModuleList(\n",
      "    (0-11): 12 x TransformerBlock(\n",
      "      (ln1): LayerNormPre(\n",
      "        (hook_scale): HookPoint()\n",
      "        (hook_normalized): HookPoint()\n",
      "      )\n",
      "      (ln2): LayerNormPre(\n",
      "        (hook_scale): HookPoint()\n",
      "        (hook_normalized): HookPoint()\n",
      "      )\n",
      "      (attn): Attention(\n",
      "        (hook_k): HookPoint()\n",
      "        (hook_q): HookPoint()\n",
      "        (hook_v): HookPoint()\n",
      "        (hook_z): HookPoint()\n",
      "        (hook_attn_scores): HookPoint()\n",
      "        (hook_pattern): HookPoint()\n",
      "        (hook_result): HookPoint()\n",
      "      )\n",
      "      (mlp): MLP(\n",
      "        (hook_pre): HookPoint()\n",
      "        (hook_post): HookPoint()\n",
      "      )\n",
      "      (hook_attn_in): HookPoint()\n",
      "      (hook_q_input): HookPoint()\n",
      "      (hook_k_input): HookPoint()\n",
      "      (hook_v_input): HookPoint()\n",
      "      (hook_mlp_in): HookPoint()\n",
      "      (hook_attn_out): HookPoint()\n",
      "      (hook_mlp_out): HookPoint()\n",
      "      (hook_resid_pre): HookPoint()\n",
      "      (hook_resid_mid): HookPoint()\n",
      "      (hook_resid_post): HookPoint()\n",
      "    )\n",
      "  )\n",
      "  (ln_final): LayerNormPre(\n",
      "    (hook_scale): HookPoint()\n",
      "    (hook_normalized): HookPoint()\n",
      "  )\n",
      "  (unembed): Unembed()\n",
      ")\n",
      "Shape of the value tensor: torch.Size([1, 12, 12, 12]) HookPoint()\n",
      "Shape of the value tensor: torch.Size([1, 12, 12, 12]) HookPoint()\n",
      "loss=tensor(7.3264, device='mps:0')\n"
     ]
    },
    {
     "data": {
      "text/html": [
       "<div id=\"circuits-vis-1fd8c857-2d3b\" style=\"margin: 15px 0;\"/>\n",
       "    <script crossorigin type=\"module\">\n",
       "    import { render, AttentionPatterns } from \"https://unpkg.com/circuitsvis@1.43.2/dist/cdn/esm.js\";\n",
       "    render(\n",
       "      \"circuits-vis-1fd8c857-2d3b\",\n",
       "      AttentionPatterns,\n",
       "      {\"tokens\": [\"<|endoftext|>\", \" 123\", \"456\", \"754\", \"234\", \" +\", \" 8\", \"47\", \"29\", \"12\", \"34\", \"75\"], \"attention\": [[[1.0, 0.0, 0.0, 0.0, 0.0, 0.0, 0.0, 0.0, 0.0, 0.0, 0.0, 0.0], [0.0, 0.0, 0.0, 0.0, 0.0, 0.0, 0.0, 0.0, 0.0, 0.0, 0.0, 0.0], [0.0, 0.0, 0.0, 0.0, 0.0, 0.0, 0.0, 0.0, 0.0, 0.0, 0.0, 0.0], [0.5918489694595337, 0.14026135206222534, 0.19621284306049347, 0.0716768205165863, 0.0, 0.0, 0.0, 0.0, 0.0, 0.0, 0.0, 0.0], [0.5598937273025513, 0.13520310819149017, 0.17235735058784485, 0.0850234255194664, 0.04752236232161522, 0.0, 0.0, 0.0, 0.0, 0.0, 0.0, 0.0], [0.6054679155349731, 0.09311813861131668, 0.11288966983556747, 0.07436099648475647, 0.04652687534689903, 0.06763647496700287, 0.0, 0.0, 0.0, 0.0, 0.0, 0.0], [0.24647676944732666, 0.05195322632789612, 0.31407755613327026, 0.19439736008644104, 0.1078362688422203, 0.07948825508356094, 0.0057706027291715145, 0.0, 0.0, 0.0, 0.0, 0.0], [0.20403514802455902, 0.09200885891914368, 0.22797001898288727, 0.16605815291404724, 0.13840708136558533, 0.07463778555393219, 0.04201963171362877, 0.05486328899860382, 0.0, 0.0, 0.0, 0.0], [0.18594740331172943, 0.06068615987896919, 0.29300013184547424, 0.162803515791893, 0.08196006715297699, 0.05204607918858528, 0.018871892243623734, 0.09738754481077194, 0.047297220677137375, 0.0, 0.0, 0.0], [0.21809159219264984, 0.08258793503046036, 0.1978236585855484, 0.19143475592136383, 0.08260492235422134, 0.032556094229221344, 0.027579909190535545, 0.08009068667888641, 0.04891875013709068, 0.038311667740345, 0.0, 0.0], [0.16565842926502228, 0.06506334990262985, 0.19098061323165894, 0.14058423042297363, 0.05551011487841606, 0.0458381250500679, 0.03749461844563484, 0.07954887300729752, 0.06621257215738297, 0.07658620923757553, 0.07652286440134048, 0.0], [0.17495331168174744, 0.0580342598259449, 0.1775340735912323, 0.07626382261514664, 0.10460475087165833, 0.0631260871887207, 0.044217661023139954, 0.06545321643352509, 0.05817236006259918, 0.07446466386318207, 0.051404036581516266, 0.051771774888038635]], [[1.0, 0.0, 0.0, 0.0, 0.0, 0.0, 0.0, 0.0, 0.0, 0.0, 0.0, 0.0], [0.0, 0.0, 0.0, 0.0, 0.0, 0.0, 0.0, 0.0, 0.0, 0.0, 0.0, 0.0], [0.0, 0.0, 0.0, 0.0, 0.0, 0.0, 0.0, 0.0, 0.0, 0.0, 0.0, 0.0], [1.8082237147609703e-05, 0.000675378309097141, 0.00023436459014192224, 0.9990720748901367, 0.0, 0.0, 0.0, 0.0, 0.0, 0.0, 0.0, 0.0], [9.21816608752124e-05, 0.015445749275386333, 0.0025596360210329294, 0.0024678551126271486, 0.9794345498085022, 0.0, 0.0, 0.0, 0.0, 0.0, 0.0, 0.0], [0.000929127971176058, 6.641649815719575e-05, 7.18899755156599e-05, 1.7859383660834283e-05, 1.6376598068745807e-05, 0.9988982677459717, 0.0, 0.0, 0.0, 0.0, 0.0, 0.0], [0.0003818329714704305, 6.251602462725714e-05, 0.0002908020978793502, 0.0003570814151316881, 3.896737689501606e-05, 0.00022142581292428076, 0.9986472725868225, 0.0, 0.0, 0.0, 0.0, 0.0], [0.0001867054234026, 0.0031592128798365593, 0.0005925371660850942, 0.00025770950014702976, 1.1326723324600607e-05, 0.0001096186024369672, 0.000128505562315695, 0.995554506778717, 0.0, 0.0, 0.0, 0.0], [0.00037872089887969196, 0.0007299479329958558, 3.0029354093130678e-05, 0.00036283527151681483, 0.00019585949485190213, 5.8053366956301033e-05, 7.292933878488839e-05, 0.00011368422565283254, 0.998058021068573, 0.0, 0.0, 0.0], [0.00032030927832238376, 0.007269062101840973, 0.001777597120963037, 0.0002625979541335255, 0.0004167848965153098, 0.0002918808604590595, 0.004023302812129259, 4.038177212351002e-05, 8.503262506565079e-05, 0.9855130314826965, 0.0, 0.0], [0.0002739287738222629, 0.000521963753271848, 0.0004120763042010367, 0.0010752620873972774, 0.0048486921004951, 0.0003959427704103291, 0.00039192484109662473, 8.696530130691826e-05, 0.0012726521817967296, 0.00013995423796586692, 0.9905804991722107, 0.0], [0.0004489531565923244, 0.0004913453012704849, 4.523537791101262e-05, 0.006892429664731026, 2.6937959773931652e-05, 0.0019154896726831794, 0.00020618774578906596, 0.0001095030820579268, 0.0005283266073092818, 0.000290137279080227, 8.77241382113425e-06, 0.9890366196632385]], [[1.0, 0.0, 0.0, 0.0, 0.0, 0.0, 0.0, 0.0, 0.0, 0.0, 0.0, 0.0], [0.0, 0.0, 0.0, 0.0, 0.0, 0.0, 0.0, 0.0, 0.0, 0.0, 0.0, 0.0], [0.0, 0.0, 0.0, 0.0, 0.0, 0.0, 0.0, 0.0, 0.0, 0.0, 0.0, 0.0], [0.8218585848808289, 0.06579716503620148, 0.07763829082250595, 0.03470596671104431, 0.0, 0.0, 0.0, 0.0, 0.0, 0.0, 0.0, 0.0], [0.7739949226379395, 0.04566226527094841, 0.0644455999135971, 0.05862109735608101, 0.057276058942079544, 0.0, 0.0, 0.0, 0.0, 0.0, 0.0, 0.0], [0.5980080962181091, 0.12811049818992615, 0.10692276805639267, 0.057341791689395905, 0.0652230829000473, 0.04439377412199974, 0.0, 0.0, 0.0, 0.0, 0.0, 0.0], [0.40915870666503906, 0.14586272835731506, 0.10750122368335724, 0.07605806738138199, 0.091285839676857, 0.06320299208164215, 0.10693050920963287, 0.0, 0.0, 0.0, 0.0, 0.0], [0.5019581913948059, 0.06970728933811188, 0.06026393175125122, 0.08360109478235245, 0.040096547454595566, 0.029445134103298187, 0.07580892741680145, 0.13911892473697662, 0.0, 0.0, 0.0, 0.0], [0.35602498054504395, 0.05978626012802124, 0.05044558271765709, 0.09320610016584396, 0.05758555606007576, 0.022027600556612015, 0.074194997549057, 0.2127864807844162, 0.07394242286682129, 0.0, 0.0, 0.0], [0.27519574761390686, 0.0475398413836956, 0.04954741522669792, 0.0727790966629982, 0.06681656092405319, 0.023461047559976578, 0.05519263446331024, 0.2575506269931793, 0.10802823305130005, 0.04388885945081711, 0.0, 0.0], [0.2647455036640167, 0.04871555045247078, 0.04097673296928406, 0.06320710480213165, 0.05800845846533775, 0.020466970279812813, 0.04256060719490051, 0.1690923571586609, 0.09607907384634018, 0.0967063382267952, 0.099441297352314, 0.0], [0.22576487064361572, 0.037644799798727036, 0.04876268282532692, 0.08214899152517319, 0.04076049476861954, 0.015216258354485035, 0.04396433010697365, 0.18680161237716675, 0.06585860997438431, 0.08527393639087677, 0.10540197044610977, 0.06240145117044449]], [[1.0, 0.0, 0.0, 0.0, 0.0, 0.0, 0.0, 0.0, 0.0, 0.0, 0.0, 0.0], [0.0, 0.0, 0.0, 0.0, 0.0, 0.0, 0.0, 0.0, 0.0, 0.0, 0.0, 0.0], [0.0, 0.0, 0.0, 0.0, 0.0, 0.0, 0.0, 0.0, 0.0, 0.0, 0.0, 0.0], [0.030718252062797546, 0.012140720151364803, 0.012156425975263119, 0.9449845552444458, 0.0, 0.0, 0.0, 0.0, 0.0, 0.0, 0.0, 0.0], [0.013088836334645748, 0.013531263917684555, 0.010047596879303455, 0.018243569880723953, 0.945088803768158, 0.0, 0.0, 0.0, 0.0, 0.0, 0.0, 0.0], [0.0035755662247538567, 0.0008410392911173403, 0.0007970135193318129, 0.002695334143936634, 0.00352873164229095, 0.9885622262954712, 0.0, 0.0, 0.0, 0.0, 0.0, 0.0], [0.00366844329982996, 0.0006007482879795134, 0.0001305778423557058, 0.0008280978654511273, 0.002517350949347019, 0.023072754964232445, 0.9691820740699768, 0.0, 0.0, 0.0, 0.0, 0.0], [0.0024832691997289658, 0.0003447848721407354, 0.0002549355267547071, 0.0004551173478830606, 0.0011434606276452541, 0.0003666628326755017, 0.0034601681400090456, 0.9914916157722473, 0.0, 0.0, 0.0, 0.0], [0.010159905068576336, 0.0009250945295207202, 0.00020318161114118993, 0.0008251204271800816, 0.004376637749373913, 0.0006230344297364354, 0.0018704076064750552, 0.01268294919282198, 0.9683336019515991, 0.0, 0.0, 0.0], [0.0026129409670829773, 0.0008212967659346759, 0.00024556717835366726, 0.0006086447392590344, 0.004287839401513338, 0.0008368802373297513, 0.0021691666916012764, 0.004556033294647932, 0.012676775455474854, 0.9711848497390747, 0.0, 0.0], [0.0027177848387509584, 0.000154296969412826, 0.00017128541367128491, 0.00024162876070477068, 0.0028010846581310034, 0.00012156012962805107, 0.00015350058674812317, 0.005183638539165258, 0.02554086409509182, 0.03516364097595215, 0.9277507066726685, 0.0], [0.001141446060501039, 3.5148957977071404e-05, 1.5291798263206147e-05, 0.0003170180425513536, 0.00023235355911310762, 9.396504174219444e-05, 8.770005661062896e-05, 0.0010417918674647808, 0.01730930618941784, 0.007881388068199158, 0.025314439088106155, 0.9465301036834717]], [[1.0, 0.0, 0.0, 0.0, 0.0, 0.0, 0.0, 0.0, 0.0, 0.0, 0.0, 0.0], [0.0, 0.0, 0.0, 0.0, 0.0, 0.0, 0.0, 0.0, 0.0, 0.0, 0.0, 0.0], [0.0, 0.0, 0.0, 0.0, 0.0, 0.0, 0.0, 0.0, 0.0, 0.0, 0.0, 0.0], [0.059334322810173035, 0.19475872814655304, 0.11143287271261215, 0.6344740390777588, 0.0, 0.0, 0.0, 0.0, 0.0, 0.0, 0.0, 0.0], [0.04431953653693199, 0.31898441910743713, 0.019757123664021492, 0.03554363548755646, 0.5813952684402466, 0.0, 0.0, 0.0, 0.0, 0.0, 0.0, 0.0], [0.1933847963809967, 0.14953848719596863, 0.11878671497106552, 0.053092699497938156, 0.22416162490844727, 0.261035680770874, 0.0, 0.0, 0.0, 0.0, 0.0, 0.0], [0.13334240019321442, 0.09361498057842255, 0.05564381554722786, 0.05507642775774002, 0.12682004272937775, 0.1890990138053894, 0.3464032709598541, 0.0, 0.0, 0.0, 0.0, 0.0], [0.17660415172576904, 0.036740511655807495, 0.02029944397509098, 0.02447950653731823, 0.08944495022296906, 0.054328691214323044, 0.12536175549030304, 0.4727409780025482, 0.0, 0.0, 0.0, 0.0], [0.1043887734413147, 0.06085700914263725, 0.012529258616268635, 0.030376959592103958, 0.06966516375541687, 0.047084011137485504, 0.12165165692567825, 0.08060651272535324, 0.47284069657325745, 0.0, 0.0, 0.0], [0.06192737817764282, 0.10156963020563126, 0.032456912100315094, 0.03724813088774681, 0.0828072652220726, 0.03472937270998955, 0.11896061152219772, 0.12575697898864746, 0.10418885946273804, 0.300354927778244, 0.0, 0.0], [0.053002338856458664, 0.04041516035795212, 0.02231840416789055, 0.04440998286008835, 0.056816089898347855, 0.026808084920048714, 0.023212991654872894, 0.04329709708690643, 0.08647400140762329, 0.12692707777023315, 0.4763187766075134, 0.0], [0.0682104304432869, 0.029753781855106354, 0.007688108365982771, 0.040511395782232285, 0.027620917186141014, 0.016419395804405212, 0.02994159795343876, 0.024714939296245575, 0.10782890766859055, 0.0802392065525055, 0.10013846307992935, 0.46693283319473267]], [[1.0, 0.0, 0.0, 0.0, 0.0, 0.0, 0.0, 0.0, 0.0, 0.0, 0.0, 0.0], [0.0, 0.0, 0.0, 0.0, 0.0, 0.0, 0.0, 0.0, 0.0, 0.0, 0.0, 0.0], [0.0, 0.0, 0.0, 0.0, 0.0, 0.0, 0.0, 0.0, 0.0, 0.0, 0.0, 0.0], [0.008917287923395634, 4.9194397433893755e-05, 4.459381307242438e-05, 0.9909890294075012, 0.0, 0.0, 0.0, 0.0, 0.0, 0.0, 0.0, 0.0], [0.006644033826887608, 0.00084769690874964, 4.053116208524443e-05, 8.681326289661229e-05, 0.9923809170722961, 0.0, 0.0, 0.0, 0.0, 0.0, 0.0, 0.0], [0.159332737326622, 6.455794937210158e-05, 0.00020509216119535267, 4.152724432060495e-05, 5.994234470563242e-06, 0.8403500914573669, 0.0, 0.0, 0.0, 0.0, 0.0, 0.0], [0.031005864962935448, 6.57089040032588e-05, 5.6604010751470923e-05, 0.00012792798224836588, 1.937213482960942e-06, 5.97612997808028e-05, 0.9686822295188904, 0.0, 0.0, 0.0, 0.0, 0.0], [0.02730177529156208, 0.0008526680176146328, 0.00044685430475510657, 5.541993687074864e-06, 2.4371927338506794e-06, 1.5437569800269557e-06, 6.348464012262411e-06, 0.971382737159729, 0.0, 0.0, 0.0, 0.0], [0.024185199290513992, 4.117025309824385e-05, 1.2501095625339076e-06, 6.254564505070448e-05, 1.4549058505508583e-05, 6.575970701305778e-07, 1.0821075875355746e-06, 3.057641151826829e-05, 0.9756630063056946, 0.0, 0.0, 0.0], [0.03106083534657955, 0.0012694374890998006, 0.00015783884737174958, 5.048360981163569e-05, 8.556992543162778e-05, 1.9403820260777138e-05, 9.080171003006399e-05, 4.398668806970818e-06, 1.609108949196525e-05, 0.9672451615333557, 0.0, 0.0], [0.021465953439474106, 1.6748714187997393e-05, 3.615304740378633e-05, 0.00010299898713128641, 0.001238171593286097, 1.1001205166394357e-05, 5.813992174807936e-06, 2.2033644199837e-05, 0.0007777927094139159, 1.4755703887203708e-05, 0.9763084053993225, 0.0], [0.0124755147844553, 2.3150763809098862e-05, 2.260313522128854e-05, 0.001141234883107245, 2.8876133910671342e-06, 3.586994353099726e-05, 2.4849116471159505e-06, 6.9098373387532774e-06, 0.00011152838123962283, 4.874126170761883e-05, 1.1199766731806449e-06, 0.9861278533935547]], [[1.0, 0.0, 0.0, 0.0, 0.0, 0.0, 0.0, 0.0, 0.0, 0.0, 0.0, 0.0], [0.0, 0.0, 0.0, 0.0, 0.0, 0.0, 0.0, 0.0, 0.0, 0.0, 0.0, 0.0], [0.0, 0.0, 0.0, 0.0, 0.0, 0.0, 0.0, 0.0, 0.0, 0.0, 0.0, 0.0], [0.43765532970428467, 0.2788829207420349, 0.1714181900024414, 0.11204351484775543, 0.0, 0.0, 0.0, 0.0, 0.0, 0.0, 0.0, 0.0], [0.4750341475009918, 0.20982374250888824, 0.09918348491191864, 0.11283903568983078, 0.10311956703662872, 0.0, 0.0, 0.0, 0.0, 0.0, 0.0, 0.0], [0.5419442057609558, 0.13672465085983276, 0.08662643283605576, 0.12225528806447983, 0.05265777185559273, 0.05979172885417938, 0.0, 0.0, 0.0, 0.0, 0.0, 0.0], [0.14706379175186157, 0.18836890161037445, 0.20000243186950684, 0.20392633974552155, 0.15603967010974884, 0.03552493825554848, 0.06907400488853455, 0.0, 0.0, 0.0, 0.0, 0.0], [0.1492827832698822, 0.10411157459020615, 0.11027755588293076, 0.16152924299240112, 0.2908288538455963, 0.04325466603040695, 0.0695122480392456, 0.0712030902504921, 0.0, 0.0, 0.0, 0.0], [0.13787218928337097, 0.1396169513463974, 0.09360137581825256, 0.10806943476200104, 0.2829156219959259, 0.05296526849269867, 0.041490018367767334, 0.08280368149280548, 0.060665473341941833, 0.0, 0.0, 0.0], [0.13332822918891907, 0.14568501710891724, 0.11819347739219666, 0.10824492573738098, 0.23257051408290863, 0.036195721477270126, 0.06406343728303909, 0.0722159817814827, 0.057147178798913956, 0.03235544264316559, 0.0, 0.0], [0.11646029353141785, 0.12116540223360062, 0.10354854166507721, 0.1317244917154312, 0.1938520073890686, 0.03372318670153618, 0.044708412140607834, 0.08209576457738876, 0.06400001794099808, 0.03663717955350876, 0.07208467274904251, 0.0], [0.12942272424697876, 0.0865645483136177, 0.11564398556947708, 0.10991288721561432, 0.2156532108783722, 0.034733135253190994, 0.051118507981300354, 0.06174341216683388, 0.06382817029953003, 0.03330616652965546, 0.0635262206196785, 0.03454701602458954]], [[1.0, 0.0, 0.0, 0.0, 0.0, 0.0, 0.0, 0.0, 0.0, 0.0, 0.0, 0.0], [0.0, 0.0, 0.0, 0.0, 0.0, 0.0, 0.0, 0.0, 0.0, 0.0, 0.0, 0.0], [0.0, 0.0, 0.0, 0.0, 0.0, 0.0, 0.0, 0.0, 0.0, 0.0, 0.0, 0.0], [0.5228686928749084, 0.2375132143497467, 0.18233612179756165, 0.05728195235133171, 0.0, 0.0, 0.0, 0.0, 0.0, 0.0, 0.0, 0.0], [0.33737027645111084, 0.21686366200447083, 0.08619147539138794, 0.1494288444519043, 0.2101457566022873, 0.0, 0.0, 0.0, 0.0, 0.0, 0.0, 0.0], [0.13337869942188263, 0.16872860491275787, 0.043070267885923386, 0.12454155832529068, 0.3370365500450134, 0.19324436783790588, 0.0, 0.0, 0.0, 0.0, 0.0, 0.0], [0.12111426144838333, 0.09257892519235611, 0.056573137640953064, 0.04858938604593277, 0.15000633895397186, 0.29776883125305176, 0.2333691120147705, 0.0, 0.0, 0.0, 0.0, 0.0], [0.06884574890136719, 0.0981161892414093, 0.04514239728450775, 0.10349712520837784, 0.09465432912111282, 0.09776550531387329, 0.33855369687080383, 0.15342505276203156, 0.0, 0.0, 0.0, 0.0], [0.06222723796963692, 0.03719737380743027, 0.013691343367099762, 0.025006121024489403, 0.09016038477420807, 0.1055850088596344, 0.22792112827301025, 0.21921373903751373, 0.21899767220020294, 0.0, 0.0, 0.0], [0.04815170541405678, 0.021604374051094055, 0.010454473085701466, 0.029340505599975586, 0.04174099490046501, 0.07699255645275116, 0.14695800840854645, 0.20403917133808136, 0.2672293484210968, 0.1534888595342636, 0.0, 0.0], [0.032953571528196335, 0.028087453916668892, 0.009781594388186932, 0.014007238671183586, 0.01697726361453533, 0.03364081680774689, 0.05329800397157669, 0.05492474511265755, 0.09464980661869049, 0.5092492699623108, 0.1524302214384079, 0.0], [0.045234810560941696, 0.021210117265582085, 0.009844884276390076, 0.0077801840379834175, 0.016942260786890984, 0.026450265198946, 0.05535592511296272, 0.05526948720216751, 0.10548350214958191, 0.28335899114608765, 0.19320142269134521, 0.17986814677715302]], [[1.0, 0.0, 0.0, 0.0, 0.0, 0.0, 0.0, 0.0, 0.0, 0.0, 0.0, 0.0], [0.0, 0.0, 0.0, 0.0, 0.0, 0.0, 0.0, 0.0, 0.0, 0.0, 0.0, 0.0], [0.0, 0.0, 0.0, 0.0, 0.0, 0.0, 0.0, 0.0, 0.0, 0.0, 0.0, 0.0], [0.7407048940658569, 0.10270097106695175, 0.10411495715379715, 0.05247912183403969, 0.0, 0.0, 0.0, 0.0, 0.0, 0.0, 0.0, 0.0], [0.5622109770774841, 0.1317814141511917, 0.12605269253253937, 0.09704972803592682, 0.08290521800518036, 0.0, 0.0, 0.0, 0.0, 0.0, 0.0, 0.0], [0.6489880681037903, 0.034472882747650146, 0.01252217497676611, 0.01961345411837101, 0.024331271648406982, 0.26007217168807983, 0.0, 0.0, 0.0, 0.0, 0.0, 0.0], [0.24597163498401642, 0.05859832838177681, 0.048578258603811264, 0.042863957583904266, 0.05491425096988678, 0.22559435665607452, 0.32347920536994934, 0.0, 0.0, 0.0, 0.0, 0.0], [0.36674705147743225, 0.1087874323129654, 0.07632158696651459, 0.08463145047426224, 0.08250102400779724, 0.07384216040372849, 0.132307767868042, 0.07486152648925781, 0.0, 0.0, 0.0, 0.0], [0.3052922487258911, 0.07799313962459564, 0.05254141241312027, 0.0590452179312706, 0.08887758105993271, 0.132196307182312, 0.16935083270072937, 0.06287132203578949, 0.05183202773332596, 0.0, 0.0, 0.0], [0.2796872556209564, 0.056391771882772446, 0.05435803905129433, 0.049533385783433914, 0.057802990078926086, 0.13622941076755524, 0.201246440410614, 0.05180284008383751, 0.039922479540109634, 0.07302538305521011, 0.0, 0.0], [0.21710747480392456, 0.08655841648578644, 0.04846353083848953, 0.06356695294380188, 0.05521347001194954, 0.10403161495923996, 0.16991998255252838, 0.05815108120441437, 0.05946046859025955, 0.07767815887928009, 0.059848882257938385, 0.0], [0.24116557836532593, 0.08895599097013474, 0.04841281473636627, 0.07090349495410919, 0.0806632786989212, 0.04728524386882782, 0.07989509403705597, 0.045473482459783554, 0.06210656091570854, 0.06928358972072601, 0.0769544392824173, 0.08890040218830109]], [[1.0, 0.0, 0.0, 0.0, 0.0, 0.0, 0.0, 0.0, 0.0, 0.0, 0.0, 0.0], [0.0, 0.0, 0.0, 0.0, 0.0, 0.0, 0.0, 0.0, 0.0, 0.0, 0.0, 0.0], [0.0, 0.0, 0.0, 0.0, 0.0, 0.0, 0.0, 0.0, 0.0, 0.0, 0.0, 0.0], [0.8027212619781494, 0.08502320945262909, 0.0732637569308281, 0.03899173438549042, 0.0, 0.0, 0.0, 0.0, 0.0, 0.0, 0.0, 0.0], [0.6661531329154968, 0.10381437093019485, 0.09611093997955322, 0.08585555851459503, 0.04806594178080559, 0.0, 0.0, 0.0, 0.0, 0.0, 0.0, 0.0], [0.5804465413093567, 0.10525058954954147, 0.1024569571018219, 0.06413359194993973, 0.07230120897293091, 0.0754111111164093, 0.0, 0.0, 0.0, 0.0, 0.0, 0.0], [0.479705810546875, 0.0921395868062973, 0.07984262704849243, 0.05842642858624458, 0.07720525562763214, 0.11588267236948013, 0.09679767489433289, 0.0, 0.0, 0.0, 0.0, 0.0], [0.4069128930568695, 0.08773254603147507, 0.09674757719039917, 0.06285414099693298, 0.07326346635818481, 0.09583006054162979, 0.09540379047393799, 0.08125553280115128, 0.0, 0.0, 0.0, 0.0], [0.3959001898765564, 0.07919646799564362, 0.07328509539365768, 0.05102328956127167, 0.06416657567024231, 0.08756767213344574, 0.09418021142482758, 0.0850592628121376, 0.06962122023105621, 0.0, 0.0, 0.0], [0.32954901456832886, 0.07194999605417252, 0.05890372395515442, 0.05607517436146736, 0.05912145972251892, 0.08701769262552261, 0.08724329620599747, 0.09417524188756943, 0.09375856816768646, 0.06220579147338867, 0.0, 0.0], [0.31745269894599915, 0.062296487390995026, 0.06378129124641418, 0.05344025045633316, 0.04460258036851883, 0.07570207118988037, 0.08405163139104843, 0.07914682477712631, 0.07423572242259979, 0.08206035196781158, 0.06323010474443436, 0.0], [0.29412928223609924, 0.05667867138981819, 0.06293804943561554, 0.04684044420719147, 0.05185791477560997, 0.07955513894557953, 0.07637132704257965, 0.07335798442363739, 0.07156334072351456, 0.0700746551156044, 0.0763077586889267, 0.040325429290533066]], [[1.0, 0.0, 0.0, 0.0, 0.0, 0.0, 0.0, 0.0, 0.0, 0.0, 0.0, 0.0], [0.0, 0.0, 0.0, 0.0, 0.0, 0.0, 0.0, 0.0, 0.0, 0.0, 0.0, 0.0], [0.0, 0.0, 0.0, 0.0, 0.0, 0.0, 0.0, 0.0, 0.0, 0.0, 0.0, 0.0], [0.6477229595184326, 0.08491143584251404, 0.05319111421704292, 0.21417444944381714, 0.0, 0.0, 0.0, 0.0, 0.0, 0.0, 0.0, 0.0], [0.4795443117618561, 0.13957935571670532, 0.07283174246549606, 0.053805120289325714, 0.2542395293712616, 0.0, 0.0, 0.0, 0.0, 0.0, 0.0, 0.0], [0.48074063658714294, 0.08678145706653595, 0.06787368655204773, 0.041932541877031326, 0.05183548107743263, 0.27083620429039, 0.0, 0.0, 0.0, 0.0, 0.0, 0.0], [0.3628249168395996, 0.06455730646848679, 0.05965328589081764, 0.0677114874124527, 0.04670007899403572, 0.09041881561279297, 0.3081340789794922, 0.0, 0.0, 0.0, 0.0, 0.0], [0.2876396179199219, 0.10329815000295639, 0.08319424092769623, 0.048471029847860336, 0.04123314097523689, 0.06839251518249512, 0.06252791732549667, 0.3052434027194977, 0.0, 0.0, 0.0, 0.0], [0.2915308475494385, 0.07986278086900711, 0.040675096213817596, 0.04793942719697952, 0.06821250915527344, 0.06301908195018768, 0.06353851407766342, 0.06817158311605453, 0.27705007791519165, 0.0, 0.0, 0.0], [0.23984377086162567, 0.10135655850172043, 0.0721348449587822, 0.04776271805167198, 0.060074128210544586, 0.051161088049411774, 0.08325500041246414, 0.05295144394040108, 0.047288741916418076, 0.24417173862457275, 0.0, 0.0], [0.1941516399383545, 0.06448047608137131, 0.04132269695401192, 0.04857942834496498, 0.09339812397956848, 0.05745594948530197, 0.06363711506128311, 0.055956948548555374, 0.08940108120441437, 0.04682448133826256, 0.2447921186685562, 0.0], [0.17745628952980042, 0.04828780144453049, 0.041068580001592636, 0.07845491170883179, 0.04306259751319885, 0.07932630181312561, 0.05763714015483856, 0.06327817589044571, 0.05935211479663849, 0.04757300391793251, 0.036100272089242935, 0.26840275526046753]], [[1.0, 0.0, 0.0, 0.0, 0.0, 0.0, 0.0, 0.0, 0.0, 0.0, 0.0, 0.0], [0.0, 0.0, 0.0, 0.0, 0.0, 0.0, 0.0, 0.0, 0.0, 0.0, 0.0, 0.0], [0.0, 0.0, 0.0, 0.0, 0.0, 0.0, 0.0, 0.0, 0.0, 0.0, 0.0, 0.0], [0.4778769612312317, 0.24899891018867493, 0.12214245647192001, 0.15098172426223755, 0.0, 0.0, 0.0, 0.0, 0.0, 0.0, 0.0, 0.0], [0.4545564651489258, 0.19407421350479126, 0.12171322852373123, 0.11023826897144318, 0.11941783875226974, 0.0, 0.0, 0.0, 0.0, 0.0, 0.0, 0.0], [0.3424510359764099, 0.1287258416414261, 0.14882490038871765, 0.19861382246017456, 0.14416790008544922, 0.03721647337079048, 0.0, 0.0, 0.0, 0.0, 0.0, 0.0], [0.31579819321632385, 0.1309470385313034, 0.14253604412078857, 0.17385755479335785, 0.11670348048210144, 0.055405884981155396, 0.06475178152322769, 0.0, 0.0, 0.0, 0.0, 0.0], [0.3156050443649292, 0.12910346686840057, 0.09490858018398285, 0.13541269302368164, 0.08552636206150055, 0.09000325202941895, 0.0844256654381752, 0.06501489132642746, 0.0, 0.0, 0.0, 0.0], [0.3276575803756714, 0.11335008591413498, 0.08932938426733017, 0.10089817643165588, 0.0794215202331543, 0.07632734626531601, 0.06251687556505203, 0.058440566062927246, 0.09205849468708038, 0.0, 0.0, 0.0], [0.30189192295074463, 0.09287042170763016, 0.09855010360479355, 0.09717920422554016, 0.09028244763612747, 0.04869683086872101, 0.041890885680913925, 0.060057755559682846, 0.09306305646896362, 0.07551738619804382, 0.0, 0.0], [0.2519077658653259, 0.10075075179338455, 0.08455314487218857, 0.09445396065711975, 0.07246279716491699, 0.07147526741027832, 0.05195625498890877, 0.05393226817250252, 0.08669668436050415, 0.05787830054759979, 0.07393275946378708, 0.0], [0.20984023809432983, 0.09844313561916351, 0.07184207439422607, 0.10151317715644836, 0.06574441492557526, 0.05372258648276329, 0.05272848159074783, 0.05431480333209038, 0.07716253399848938, 0.06025722622871399, 0.061313431710004807, 0.09311787039041519]]]}\n",
       "    )\n",
       "    </script>"
      ],
      "text/plain": [
       "<circuitsvis.utils.render.RenderedHTML at 0x32b9bcbd0>"
      ]
     },
     "execution_count": 7,
     "metadata": {},
     "output_type": "execute_result"
    }
   ],
   "source": [
    "layer_to_ablate = 0\n",
    "head_index_to_ablate = 1\n",
    "\n",
    "\n",
    "def head_ablation_hook(value, hook):\n",
    "    print(f\"Shape of the value tensor: {value.shape} {hook}\")\n",
    "    value[:, :, 1, :] = 0.\n",
    "    value[:, :, 2, :] = 0.\n",
    "    return value\n",
    "\n",
    "\n",
    "activations = None\n",
    "with model.hooks(fwd_hooks=[(utils.get_act_name(\"attn\", 0, \"pattern\"), head_ablation_hook)]):\n",
    "    print(model)\n",
    "    logits, activations = model.run_with_cache(tokens, remove_batch_dim=True)\n",
    "    loss = model(tokens, return_type='loss')\n",
    "    print(f'{loss=}')\n",
    "\n",
    "attention_pattern = activations[\"pattern\", 0, \"attn\"]\n",
    "cv.attention.attention_patterns(tokens=str_tokens, attention=attention_pattern)\n",
    "\n",
    "# loss = model.run_with_hooks(\n",
    "#     tokens,\n",
    "#     return_type='loss',\n",
    "#     fwd_hooks=[(\n",
    "#         utils.get_act_name(\"v\", layer_to_ablate),\n",
    "#         head_ablation_hook\n",
    "#     )]\n",
    "# )\n",
    "# cv.attention.attention_patterns(tokens=str_tokens, attention=attention_pattern)"
   ]
  },
  {
   "cell_type": "code",
   "execution_count": 8,
   "metadata": {},
   "outputs": [
    {
     "name": "stdout",
     "output_type": "stream",
     "text": [
      "Clean logit difference: -1.701\n",
      "Corrupted logit difference: 2.327\n"
     ]
    }
   ],
   "source": [
    "clean_prompt = \"After John and Mary went to the store, Mary gave a bottle of milk to\"\n",
    "corrupted_prompt = \"After John and Mary went to the store, John gave a bottle of milk to\"\n",
    "# clean_prompt = \"The Space Needle is in the city of\"\n",
    "# corrupted_prompt = \"Eiffel Tower is located in the city of\"\n",
    "\n",
    "clean_tokens = model.to_tokens(clean_prompt)\n",
    "corrupted_tokens = model.to_tokens(corrupted_prompt)\n",
    "\n",
    "def logits_to_logit_diff(logits, correct_answer, incorrect_answer):\n",
    "    # model.to_single_token maps a string value of a single token to the token index for that token\n",
    "    # If the string is not a single token, it raises an error.\n",
    "    correct_index = model.to_single_token(correct_answer)\n",
    "    incorrect_index = model.to_single_token(incorrect_answer)\n",
    "    # print(f'{correct_index=}, {incorrect_index=}')\n",
    "    # print(f'{logits.shape=}')\n",
    "    return logits[0, -1, correct_index] - logits[0, -1, incorrect_index]\n",
    "\n",
    "# We run on the clean prompt with the cache so we store activations to patch in later.\n",
    "clean_logits, clean_cache = model.run_with_cache(clean_tokens)\n",
    "clean_logit_diff = logits_to_logit_diff(clean_logits, correct_answer=\" Seattle\", incorrect_answer=\" Paris\")\n",
    "print(f\"Clean logit difference: {clean_logit_diff.item():.3f}\")\n",
    "\n",
    "corrupted_logits, corrupted_cache = model.run_with_cache(corrupted_tokens)\n",
    "corrupted_logit_diff = logits_to_logit_diff(corrupted_logits, correct_answer=\" Paris\", incorrect_answer=\" Seattle\")\n",
    "print(f\"Corrupted logit difference: {corrupted_logit_diff.item():.3f}\")\n",
    "\n",
    "# str_tokens = model.to_str_tokens(clean_prompt)\n",
    "# print(clean_cache)\n",
    "# attention_pattern = clean_cache[\"pattern\", 0, \"attn\"]\n",
    "# cv.attention.attention_patterns(tokens=str_tokens, attention=attention_pattern)"
   ]
  },
  {
   "cell_type": "code",
   "execution_count": 9,
   "metadata": {},
   "outputs": [
    {
     "name": "stdout",
     "output_type": "stream",
     "text": [
      "clean_tokens.shape=torch.Size([1, 17])\n",
      "num_positions=17\n"
     ]
    },
    {
     "name": "stderr",
     "output_type": "stream",
     "text": [
      "100%|██████████| 12/12 [00:08<00:00,  1.46it/s]\n"
     ]
    }
   ],
   "source": [
    "# We define a residual stream patching hook\n",
    "# We choose to act on the residual stream at the start of the layer, so we call it resid_pre\n",
    "# The type annotations are a guide to the reader and are not necessary\n",
    "def residual_stream_patching_hook(resid_pre, hook, position):\n",
    "    # Each HookPoint has a name attribute giving the name of the hook.\n",
    "    clean_resid_pre = clean_cache[hook.name]\n",
    "    resid_pre[:, position, :] = clean_resid_pre[:, position, :]\n",
    "    return resid_pre\n",
    "\n",
    "\n",
    "# We make a tensor to store the results for each patching run. We put it on the model's device to avoid needing to move things between the GPU and CPU, which can be slow.\n",
    "print(f'{clean_tokens.shape=}')\n",
    "num_positions = len(clean_tokens[0])\n",
    "print(f'{num_positions=}')\n",
    "ioi_patching_result = torch.zeros(\n",
    "    (model.cfg.n_layers, num_positions), device=model.cfg.device)\n",
    "\n",
    "for layer in tqdm.tqdm(range(model.cfg.n_layers)):\n",
    "    for position in range(num_positions):\n",
    "        # Use functools.partial to create a temporary hook function with the position fixed\n",
    "        temp_hook_fn = partial(\n",
    "            residual_stream_patching_hook, position=position)\n",
    "        # Run the model with the patching hook\n",
    "        patched_logits = model.run_with_hooks(corrupted_tokens, fwd_hooks=[\n",
    "            (utils.get_act_name(\"resid_pre\", layer), temp_hook_fn)\n",
    "        ])\n",
    "        # Calculate the logit difference\n",
    "        patched_logit_diff = logits_to_logit_diff(patched_logits, correct_answer=\" Seattle\", incorrect_answer=\" Paris\").detach()\n",
    "        # Store the result, normalizing by the clean and corrupted logit difference so it's between 0 and 1 (ish)\n",
    "        ioi_patching_result[layer, position] = (\n",
    "            patched_logit_diff - corrupted_logit_diff)/(clean_logit_diff - corrupted_logit_diff)"
   ]
  },
  {
   "cell_type": "code",
   "execution_count": 10,
   "metadata": {},
   "outputs": [
    {
     "ename": "TypeError",
     "evalue": "imshow() got an unexpected keyword argument 'xaxis'",
     "output_type": "error",
     "traceback": [
      "\u001b[0;31m---------------------------------------------------------------------------\u001b[0m",
      "\u001b[0;31mTypeError\u001b[0m                                 Traceback (most recent call last)",
      "Cell \u001b[0;32mIn[10], line 3\u001b[0m\n\u001b[1;32m      1\u001b[0m \u001b[38;5;66;03m# Add the index to the end of the label, because plotly doesn't like duplicate labels\u001b[39;00m\n\u001b[1;32m      2\u001b[0m token_labels \u001b[38;5;241m=\u001b[39m [\u001b[38;5;124mf\u001b[39m\u001b[38;5;124m\"\u001b[39m\u001b[38;5;132;01m{\u001b[39;00mtoken\u001b[38;5;132;01m}\u001b[39;00m\u001b[38;5;124m_\u001b[39m\u001b[38;5;132;01m{\u001b[39;00mindex\u001b[38;5;132;01m}\u001b[39;00m\u001b[38;5;124m\"\u001b[39m \u001b[38;5;28;01mfor\u001b[39;00m index, token \u001b[38;5;129;01min\u001b[39;00m \u001b[38;5;28menumerate\u001b[39m(model\u001b[38;5;241m.\u001b[39mto_str_tokens(clean_tokens))]\n\u001b[0;32m----> 3\u001b[0m \u001b[43mimshow\u001b[49m\u001b[43m(\u001b[49m\u001b[43mioi_patching_result\u001b[49m\u001b[43m,\u001b[49m\u001b[43m \u001b[49m\u001b[43mx\u001b[49m\u001b[38;5;241;43m=\u001b[39;49m\u001b[43mtoken_labels\u001b[49m\u001b[43m,\u001b[49m\u001b[43m \u001b[49m\u001b[43mxaxis\u001b[49m\u001b[38;5;241;43m=\u001b[39;49m\u001b[38;5;124;43m\"\u001b[39;49m\u001b[38;5;124;43mPosition\u001b[39;49m\u001b[38;5;124;43m\"\u001b[39;49m\u001b[43m,\u001b[49m\u001b[43m \u001b[49m\u001b[43myaxis\u001b[49m\u001b[38;5;241;43m=\u001b[39;49m\u001b[38;5;124;43m\"\u001b[39;49m\u001b[38;5;124;43mLayer\u001b[39;49m\u001b[38;5;124;43m\"\u001b[39;49m\u001b[43m,\u001b[49m\u001b[43m \u001b[49m\u001b[43mtitle\u001b[49m\u001b[38;5;241;43m=\u001b[39;49m\u001b[38;5;124;43m\"\u001b[39;49m\u001b[38;5;124;43mNormalized Logit Difference After Patching Residual Stream on the IOI Task\u001b[39;49m\u001b[38;5;124;43m\"\u001b[39;49m\u001b[43m)\u001b[49m\n",
      "Cell \u001b[0;32mIn[1], line 45\u001b[0m, in \u001b[0;36mimshow\u001b[0;34m(tensor, **kwargs)\u001b[0m\n\u001b[1;32m     44\u001b[0m \u001b[38;5;28;01mdef\u001b[39;00m \u001b[38;5;21mimshow\u001b[39m(tensor, \u001b[38;5;241m*\u001b[39m\u001b[38;5;241m*\u001b[39mkwargs):\n\u001b[0;32m---> 45\u001b[0m     \u001b[43mpx\u001b[49m\u001b[38;5;241;43m.\u001b[39;49m\u001b[43mimshow\u001b[49m\u001b[43m(\u001b[49m\n\u001b[1;32m     46\u001b[0m \u001b[43m        \u001b[49m\u001b[43mutils\u001b[49m\u001b[38;5;241;43m.\u001b[39;49m\u001b[43mto_numpy\u001b[49m\u001b[43m(\u001b[49m\u001b[43mtensor\u001b[49m\u001b[43m)\u001b[49m\u001b[43m,\u001b[49m\n\u001b[1;32m     47\u001b[0m \u001b[43m        \u001b[49m\u001b[43mcolor_continuous_midpoint\u001b[49m\u001b[38;5;241;43m=\u001b[39;49m\u001b[38;5;241;43m0.0\u001b[39;49m\u001b[43m,\u001b[49m\n\u001b[1;32m     48\u001b[0m \u001b[43m        \u001b[49m\u001b[43mcolor_continuous_scale\u001b[49m\u001b[38;5;241;43m=\u001b[39;49m\u001b[38;5;124;43m\"\u001b[39;49m\u001b[38;5;124;43mRdBu\u001b[39;49m\u001b[38;5;124;43m\"\u001b[39;49m\u001b[43m,\u001b[49m\n\u001b[1;32m     49\u001b[0m \u001b[43m        \u001b[49m\u001b[38;5;241;43m*\u001b[39;49m\u001b[38;5;241;43m*\u001b[39;49m\u001b[43mkwargs\u001b[49m\u001b[43m,\u001b[49m\n\u001b[1;32m     50\u001b[0m \u001b[43m    \u001b[49m\u001b[43m)\u001b[49m\u001b[38;5;241m.\u001b[39mshow()\n",
      "\u001b[0;31mTypeError\u001b[0m: imshow() got an unexpected keyword argument 'xaxis'"
     ]
    }
   ],
   "source": [
    "# Add the index to the end of the label, because plotly doesn't like duplicate labels\n",
    "token_labels = [f\"{token}_{index}\" for index, token in enumerate(model.to_str_tokens(clean_tokens))]\n",
    "imshow(ioi_patching_result, x=token_labels, xaxis=\"Position\", yaxis=\"Layer\", title=\"Normalized Logit Difference After Patching Residual Stream on the IOI Task\")"
   ]
  },
  {
   "cell_type": "code",
   "execution_count": null,
   "metadata": {},
   "outputs": [],
   "source": [
    "batch_size = 10\n",
    "seq_len = 50\n",
    "size = (batch_size, seq_len)\n",
    "input_tensor = torch.randint(0, 10000, size)\n",
    "\n",
    "random_tokens = input_tensor.to(model.cfg.device)\n",
    "repeated_tokens = einops.repeat(random_tokens, \"batch seq_len -> batch (2 seq_len)\")\n",
    "repeated_logits = model(repeated_tokens)\n",
    "correct_log_probs = model.loss_fn(repeated_logits, repeated_tokens, per_token=True)\n",
    "loss_by_position = einops.reduce(correct_log_probs, \"batch position -> position\", \"mean\")\n",
    "line(loss_by_position, xaxis=\"Position\", yaxis=\"Loss\", title=\"Loss by position on random repeated tokens\")"
   ]
  },
  {
   "cell_type": "code",
   "execution_count": null,
   "metadata": {},
   "outputs": [],
   "source": [
    "# We make a tensor to store the induction score for each head. We put it on the model's device to avoid needing to move things between the GPU and CPU, which can be slow.\n",
    "induction_score_store = torch.zeros(\n",
    "    (model.cfg.n_layers, model.cfg.n_heads), device=model.cfg.device)\n",
    "\n",
    "\n",
    "def induction_score_hook(pattern, hook):\n",
    "    # We take the diagonal of attention paid from each destination position to source positions seq_len-1 tokens back\n",
    "    # (This only has entries for tokens with index>=seq_len)\n",
    "    induction_stripe = pattern.diagonal(dim1=-2, dim2=-1, offset=1-seq_len)\n",
    "    # Get an average score per head\n",
    "    induction_score = einops.reduce(\n",
    "        induction_stripe, \"batch head_index position -> head_index\", \"mean\")\n",
    "    # Store the result.\n",
    "    induction_score_store[hook.layer(), :] = induction_score\n",
    "\n",
    "\n",
    "# We make a boolean filter on activation names, that's true only on attention pattern names.\n",
    "def pattern_hook_names_filter(name): return name.endswith(\"pattern\")\n",
    "\n",
    "\n",
    "model.run_with_hooks(\n",
    "    repeated_tokens,\n",
    "    return_type=None,  # For efficiency, we don't need to calculate the logits\n",
    "    fwd_hooks=[(\n",
    "        pattern_hook_names_filter,\n",
    "        induction_score_hook\n",
    "    )]\n",
    ")\n",
    "\n",
    "imshow(induction_score_store, xaxis=\"Head\",\n",
    "       yaxis=\"Layer\", title=\"Induction Score by Head\")"
   ]
  },
  {
   "cell_type": "code",
   "execution_count": null,
   "metadata": {},
   "outputs": [],
   "source": [
    "\n",
    "induction_head_layer = 18\n",
    "induction_head_index = 5\n",
    "size = (1, 20)\n",
    "input_tensor = torch.randint(1000, 10000, size)\n",
    "\n",
    "single_random_sequence = input_tensor.to(model.cfg.device)\n",
    "repeated_random_sequence = einops.repeat(single_random_sequence, \"batch seq_len -> batch (2 seq_len)\")\n",
    "def visualize_pattern_hook(pattern, hook):\n",
    "    display(\n",
    "        cv.attention.attention_patterns(\n",
    "            tokens=model.to_str_tokens(repeated_random_sequence), \n",
    "            attention=pattern[0, induction_head_index, :, :][None, :, :] # Add a dummy axis, as CircuitsVis expects 3D patterns.\n",
    "        )\n",
    "    )\n",
    "\n",
    "model.run_with_hooks(\n",
    "    repeated_random_sequence, \n",
    "    return_type=None, \n",
    "    fwd_hooks=[(\n",
    "        utils.get_act_name(\"pattern\", induction_head_layer), \n",
    "        visualize_pattern_hook\n",
    "    )]\n",
    ")"
   ]
  },
  {
   "cell_type": "code",
   "execution_count": null,
   "metadata": {},
   "outputs": [],
   "source": [
    "test_prompt = \"The quick brown fox jumped over the lazy dog\"\n",
    "print(\"Num tokens:\", len(model.to_tokens(test_prompt)[0]))\n",
    "\n",
    "def print_name_shape_hook_function(activation, hook):\n",
    "    print(hook.name, activation.shape)\n",
    "\n",
    "not_in_late_block_filter = lambda name: name.startswith(\"blocks.0.\") or not name.startswith(\"blocks\")\n",
    "\n",
    "model.run_with_hooks(\n",
    "    test_prompt,\n",
    "    return_type=None,\n",
    "    fwd_hooks=[(not_in_late_block_filter, print_name_shape_hook_function)],\n",
    ")"
   ]
  },
  {
   "cell_type": "code",
   "execution_count": null,
   "metadata": {},
   "outputs": [],
   "source": [
    "example_prompt = \"1111 + 2222 =\"\n",
    "example_answer = \" 3333\"\n",
    "utils.test_prompt(example_prompt, example_answer, model, prepend_bos=True)"
   ]
  },
  {
   "cell_type": "code",
   "execution_count": null,
   "metadata": {},
   "outputs": [],
   "source": []
  },
  {
   "cell_type": "code",
   "execution_count": null,
   "metadata": {},
   "outputs": [],
   "source": []
  },
  {
   "cell_type": "code",
   "execution_count": null,
   "metadata": {},
   "outputs": [],
   "source": []
  },
  {
   "cell_type": "code",
   "execution_count": null,
   "metadata": {},
   "outputs": [],
   "source": []
  }
 ],
 "metadata": {
  "kernelspec": {
   "display_name": "base",
   "language": "python",
   "name": "python3"
  },
  "language_info": {
   "codemirror_mode": {
    "name": "ipython",
    "version": 3
   },
   "file_extension": ".py",
   "mimetype": "text/x-python",
   "name": "python",
   "nbconvert_exporter": "python",
   "pygments_lexer": "ipython3",
   "version": "3.11.7"
  }
 },
 "nbformat": 4,
 "nbformat_minor": 2
}
